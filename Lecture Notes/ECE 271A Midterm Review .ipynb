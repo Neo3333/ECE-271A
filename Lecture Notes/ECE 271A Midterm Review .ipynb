{
 "cells": [
  {
   "cell_type": "code",
   "execution_count": 1,
   "metadata": {},
   "outputs": [],
   "source": [
    "import numpy as np\n",
    "def g(mean,prior,x):\n",
    "    return mean.T.dot(x) - 0.5*mean.T.dot(mean) + np.log(prior)"
   ]
  },
  {
   "cell_type": "code",
   "execution_count": 12,
   "metadata": {},
   "outputs": [],
   "source": [
    "x = np.array([[-1,0.9],[1,0.8],[1,1.1],[-1.2,1.1]])\n",
    "mean0 = np.array([-1.2,1.1])\n",
    "mean1 = np.array([-1,0.9])\n",
    "prior0,prior1 = 0.5,0.5"
   ]
  },
  {
   "cell_type": "code",
   "execution_count": 13,
   "metadata": {},
   "outputs": [
    {
     "data": {
      "text/plain": [
       "array([-0.05 ,  0.975])"
      ]
     },
     "execution_count": 13,
     "metadata": {},
     "output_type": "execute_result"
    }
   ],
   "source": [
    "np.mean(x,axis = 0)"
   ]
  },
  {
   "cell_type": "code",
   "execution_count": 17,
   "metadata": {},
   "outputs": [
    {
     "name": "stdout",
     "output_type": "stream",
     "text": [
      "[array([-1.2,  1.1])] [array([-1. ,  0.9]), array([1. , 0.8]), array([1. , 1.1])]\n",
      "[array([-1.2,  1.1])] [array([-1. ,  0.9]), array([1. , 0.8]), array([1. , 1.1])]\n",
      "[array([-1.2,  1.1])] [array([-1. ,  0.9]), array([1. , 0.8]), array([1. , 1.1])]\n",
      "[-1.2  1.1] [0.33333333 0.93333333]\n"
     ]
    }
   ],
   "source": [
    "iteration = 3\n",
    "for k in range(iteration):\n",
    "    x0_new,x1_new = [],[]\n",
    "    for i in range(x.shape[0]):\n",
    "        g0 = g(mean0,prior0,x[i])\n",
    "        g1 = g(mean1,prior1,x[i])\n",
    "        if g0 > g1: x0_new.append(x[i])\n",
    "        else: x1_new.append(x[i])\n",
    "    print(x0_new,x1_new)\n",
    "    prior0 = len(x0_new) / 4\n",
    "    prior1 = 1 - prior0\n",
    "    x0 = np.array(x0_new)\n",
    "    x1 = np.array(x1_new)\n",
    "    mean0 = np.mean(x0,axis = 0)\n",
    "    mean1 = np.mean(x1,axis = 0)\n",
    "print(mean0,mean1)"
   ]
  },
  {
   "cell_type": "code",
   "execution_count": 18,
   "metadata": {},
   "outputs": [
    {
     "data": {
      "text/plain": [
       "array([[-1.2,  1.1]])"
      ]
     },
     "execution_count": 18,
     "metadata": {},
     "output_type": "execute_result"
    }
   ],
   "source": [
    "x0"
   ]
  },
  {
   "cell_type": "code",
   "execution_count": 19,
   "metadata": {},
   "outputs": [
    {
     "data": {
      "text/plain": [
       "array([[-1. ,  0.9],\n",
       "       [ 1. ,  0.8],\n",
       "       [ 1. ,  1.1]])"
      ]
     },
     "execution_count": 19,
     "metadata": {},
     "output_type": "execute_result"
    }
   ],
   "source": [
    "x1"
   ]
  },
  {
   "cell_type": "code",
   "execution_count": 20,
   "metadata": {},
   "outputs": [
    {
     "data": {
      "text/plain": [
       "0.25"
      ]
     },
     "execution_count": 20,
     "metadata": {},
     "output_type": "execute_result"
    }
   ],
   "source": [
    "prior0"
   ]
  },
  {
   "cell_type": "code",
   "execution_count": 21,
   "metadata": {},
   "outputs": [
    {
     "data": {
      "text/plain": [
       "0.75"
      ]
     },
     "execution_count": 21,
     "metadata": {},
     "output_type": "execute_result"
    }
   ],
   "source": [
    "prior1"
   ]
  },
  {
   "cell_type": "code",
   "execution_count": null,
   "metadata": {},
   "outputs": [],
   "source": []
  }
 ],
 "metadata": {
  "kernelspec": {
   "display_name": "Python 3",
   "language": "python",
   "name": "python3"
  },
  "language_info": {
   "codemirror_mode": {
    "name": "ipython",
    "version": 3
   },
   "file_extension": ".py",
   "mimetype": "text/x-python",
   "name": "python",
   "nbconvert_exporter": "python",
   "pygments_lexer": "ipython3",
   "version": "3.7.3"
  }
 },
 "nbformat": 4,
 "nbformat_minor": 2
}
