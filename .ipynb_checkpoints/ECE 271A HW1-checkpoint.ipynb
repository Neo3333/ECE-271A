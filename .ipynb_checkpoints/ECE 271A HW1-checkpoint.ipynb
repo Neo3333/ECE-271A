{
 "cells": [
  {
   "cell_type": "markdown",
   "metadata": {},
   "source": [
    "# ECE 271A HW \\#1 The Cheetah Problem"
   ]
  },
  {
   "cell_type": "markdown",
   "metadata": {},
   "source": [
    "The first step is to load the traning data with .mat format. For Pyhton I use package scipy.io.loadmat."
   ]
  },
  {
   "cell_type": "code",
   "execution_count": 1,
   "metadata": {},
   "outputs": [],
   "source": [
    "#import data\n",
    "import numpy as np\n",
    "from scipy.io import loadmat\n",
    "m = loadmat('homework1/TrainingSamplesDCT_8.mat')"
   ]
  },
  {
   "cell_type": "code",
   "execution_count": 2,
   "metadata": {},
   "outputs": [
    {
     "data": {
      "text/plain": [
       "{'__header__': b'MATLAB 5.0 MAT-file, Platform: PCWIN, Created on: Tue Sep 30 09:32:20 2003',\n",
       " '__version__': '1.0',\n",
       " '__globals__': [],\n",
       " 'TrainsampleDCT_FG': array([[1.62254902e+00, 4.38433862e-01, 1.99470128e-01, ...,\n",
       "         8.49984789e-03, 3.78270042e-03, 3.02880400e-03],\n",
       "        [1.56372549e+00, 8.21143328e-02, 9.09413795e-02, ...,\n",
       "         3.18521582e-03, 5.81148077e-03, 8.88559648e-03],\n",
       "        [1.24607843e+00, 1.06458077e-01, 4.86748243e-02, ...,\n",
       "         1.98793183e-03, 2.02433826e-03, 2.26600748e-03],\n",
       "        ...,\n",
       "        [8.50000000e-01, 2.13586353e-02, 2.73332331e-02, ...,\n",
       "         5.28559315e-03, 5.74533250e-04, 1.30883711e-03],\n",
       "        [1.32696078e+00, 1.27736043e-02, 7.25986937e-02, ...,\n",
       "         2.48390433e-03, 5.72821344e-03, 6.14234163e-04],\n",
       "        [1.40637255e+00, 5.37446031e-02, 3.52432448e-02, ...,\n",
       "         1.16665737e-02, 7.05600416e-04, 6.92833289e-04]]),\n",
       " 'TrainsampleDCT_BG': array([[2.79215686e+00, 1.82403883e-01, 8.22381982e-02, ...,\n",
       "         8.99171356e-04, 8.20162208e-04, 5.56256629e-03],\n",
       "        [2.77352941e+00, 1.89948302e-01, 7.13763275e-01, ...,\n",
       "         8.71660205e-03, 7.92740281e-04, 2.27229935e-03],\n",
       "        [2.80147059e+00, 1.74993685e-02, 4.21107915e-02, ...,\n",
       "         1.37963126e-03, 1.62882836e-03, 2.88076472e-03],\n",
       "        ...,\n",
       "        [1.85000000e+00, 1.57010159e-01, 1.52944398e-02, ...,\n",
       "         1.29102016e-03, 6.34867561e-05, 1.92029521e-03],\n",
       "        [2.00735294e+00, 6.66499678e-02, 7.33864684e-02, ...,\n",
       "         2.22899787e-03, 3.96008531e-03, 3.22405038e-04],\n",
       "        [2.57205882e+00, 6.14495544e-02, 9.93700379e-02, ...,\n",
       "         5.52675439e-03, 1.34849406e-03, 9.29894006e-04]])}"
      ]
     },
     "execution_count": 2,
     "metadata": {},
     "output_type": "execute_result"
    }
   ],
   "source": [
    "m"
   ]
  },
  {
   "cell_type": "markdown",
   "metadata": {},
   "source": [
    "The .mat file is loaded as a dictionary in Python;<br/>For this problem, we will simply extract TrainsampleDCT_FG and TrainsampleDCT_BG out from the dictionary."
   ]
  },
  {
   "cell_type": "code",
   "execution_count": 3,
   "metadata": {},
   "outputs": [],
   "source": [
    "foreground,background = m['TrainsampleDCT_FG'],m['TrainsampleDCT_BG']"
   ]
  },
  {
   "cell_type": "markdown",
   "metadata": {},
   "source": [
    "Calculate the prior probability for cheetah(foreground) and grass(background);<br/>\n",
    "Here the reasonable estimate for the prior is to use total number of training samples to devide the number of training samples of the foreground or background."
   ]
  },
  {
   "cell_type": "code",
   "execution_count": 4,
   "metadata": {},
   "outputs": [
    {
     "name": "stdout",
     "output_type": "stream",
     "text": [
      "0.1918649270913277\n",
      "0.8081350729086723\n"
     ]
    }
   ],
   "source": [
    "total = foreground.shape[0] + background.shape[0]\n",
    "prior_cheetah = foreground.shape[0] / total\n",
    "prior_grass = background.shape[0] / total\n",
    "print(prior_cheetah)\n",
    "print(prior_grass)"
   ]
  },
  {
   "cell_type": "code",
   "execution_count": 5,
   "metadata": {},
   "outputs": [],
   "source": [
    "#initialization\n",
    "freq_FG,freq_BG = np.zeros(64),np.zeros(64)\n",
    "FG,BG = [],[]"
   ]
  },
  {
   "cell_type": "markdown",
   "metadata": {},
   "source": [
    "For each foreground and background training sample, find the index of the second largest coefficient. Store the coefficient in 'FG' and 'BG' and add 1 to specific index of the foreground and background frequency map."
   ]
  },
  {
   "cell_type": "code",
   "execution_count": 6,
   "metadata": {},
   "outputs": [],
   "source": [
    "for i in range(len(foreground)):\n",
    "    temp = np.argsort(foreground[i])\n",
    "    freq_FG[temp[-2]] += 1\n",
    "    FG.append(temp[-2])"
   ]
  },
  {
   "cell_type": "code",
   "execution_count": 7,
   "metadata": {},
   "outputs": [],
   "source": [
    "for i in range(len(background)):\n",
    "    temp = np.argsort(background[i])\n",
    "    freq_BG[temp[-2]] += 1\n",
    "    BG.append(temp[-2])"
   ]
  },
  {
   "cell_type": "code",
   "execution_count": 8,
   "metadata": {},
   "outputs": [],
   "source": [
    "FG = np.array(FG)\n",
    "BG = np.array(BG)"
   ]
  },
  {
   "cell_type": "markdown",
   "metadata": {},
   "source": [
    "Histogram"
   ]
  },
  {
   "cell_type": "code",
   "execution_count": 10,
   "metadata": {},
   "outputs": [
    {
     "data": {
      "image/png": "[encoded data removed]",
      "text/plain": [
       "<Figure size 432x288 with 1 Axes>"
      ]
     },
     "metadata": {
      "needs_background": "light"
     },
     "output_type": "display_data"
    }
   ],
   "source": [
    "from matplotlib import pyplot as plt\n",
    "plt.hist(FG, bins =  [i for i in range(64)]) \n",
    "plt.title(\"histogram_foreground\") \n",
    "plt.show()"
   ]
  },
  {
   "cell_type": "code",
   "execution_count": 11,
   "metadata": {},
   "outputs": [
    {
     "data": {
      "image/png": "[encoded data removed]",
      "text/plain": [
       "<Figure size 432x288 with 1 Axes>"
      ]
     },
     "metadata": {
      "needs_background": "light"
     },
     "output_type": "display_data"
    }
   ],
   "source": [
    "plt.hist(BG, bins =  [i for i in range(64)]) \n",
    "plt.title(\"histogram_background\") \n",
    "plt.show()"
   ]
  },
  {
   "cell_type": "markdown",
   "metadata": {},
   "source": [
    "Convert frequency to probability."
   ]
  },
  {
   "cell_type": "code",
   "execution_count": 12,
   "metadata": {},
   "outputs": [],
   "source": [
    "prob_FG = freq_FG / len(foreground)\n",
    "prob_BG = freq_BG / len(background)"
   ]
  },
  {
   "cell_type": "code",
   "execution_count": 13,
   "metadata": {},
   "outputs": [],
   "source": [
    "import imageio\n",
    "im = imageio.imread('homework1/cheetah.bmp')\n",
    "im_array = np.array(im)"
   ]
  },
  {
   "cell_type": "markdown",
   "metadata": {},
   "source": [
    "Define a 2 dimensional DCT function using the 1 dimensional DCT function provided by scipy."
   ]
  },
  {
   "cell_type": "code",
   "execution_count": 14,
   "metadata": {},
   "outputs": [],
   "source": [
    "import scipy.fftpack\n",
    "def dct2d(a):\n",
    "    return scipy.fftpack.dct( scipy.fftpack.dct( a, axis=0, norm='ortho' ), axis=1, norm='ortho' )"
   ]
  },
  {
   "cell_type": "code",
   "execution_count": 15,
   "metadata": {},
   "outputs": [
    {
     "name": "stdout",
     "output_type": "stream",
     "text": [
      "[ 0  1  5  6 14 15 27 28  2  4  7 13 16 26 29 42  3  8 12 17 25 30 41 43\n",
      "  9 11 18 24 31 40 44 53 10 19 23 32 39 45 52 54 20 22 33 38 46 51 55 60\n",
      " 21 34 37 47 50 56 59 61 35 36 48 49 57 58 62 63]\n"
     ]
    }
   ],
   "source": [
    "zig_zag = np.array([[0,1,5,6,14,15,27,28],[2,4,7,13,16,26,29,42],[3,8,12,17,25,30,41,43],\n",
    "                   [9,11,18,24,31,40,44,53],[10,19,23,32,39,45,52,54],[20,22,33,38,46,51,55,60],\n",
    "                   [21,34,37,47,50,56,59,61],[35,36,48,49,57,58,62,63]])\n",
    "zz_flat = zig_zag.flatten()\n",
    "print(zz_flat)"
   ]
  },
  {
   "cell_type": "markdown",
   "metadata": {},
   "source": [
    "Convert the (255,270) matrix to blocks of size (8,8), calculate the DCT of each block and get the index of the second largest coefficient (using zig-zag map);<br/>\n",
    "For each block, calcuate probability that this block is whether a foreground or a background using BDT. Then label the block with the state that has a higher probability and store the state of each block in A."
   ]
  },
  {
   "cell_type": "code",
   "execution_count": 16,
   "metadata": {},
   "outputs": [
    {
     "name": "stdout",
     "output_type": "stream",
     "text": [
      "[0 0 1 ... 0 0 1]\n"
     ]
    }
   ],
   "source": [
    "A = []\n",
    "for i in range(0,len(im_array)-8):\n",
    "    for j in range(0,im_array.shape[1]-8):\n",
    "        row_start,row_end = i,i+8\n",
    "        col_start,col_end = j,j+8\n",
    "        block = im_array[row_start:row_end,col_start:col_end]\n",
    "        block_dct = dct2d(block).flatten()\n",
    "        index = np.argsort(block_dct)[-2]\n",
    "        if prior_cheetah * prob_FG[zz_flat[index]] >= prior_grass * prob_BG[zz_flat[index]]:\n",
    "            A.append(1)\n",
    "        else:\n",
    "            A.append(0)\n",
    "A = np.array(A)\n",
    "print(A)"
   ]
  },
  {
   "cell_type": "code",
   "execution_count": 17,
   "metadata": {},
   "outputs": [],
   "source": [
    "A_matrix = np.reshape(A,(247,262))"
   ]
  },
  {
   "cell_type": "markdown",
   "metadata": {},
   "source": [
    "Right now the size of the matrix(picture) is (247,262), we need to do some paddings around the picture so as to maintain the size of the picture, which is (255,270)."
   ]
  },
  {
   "cell_type": "code",
   "execution_count": 18,
   "metadata": {},
   "outputs": [],
   "source": [
    "A_matrix_padding = np.lib.pad(A_matrix,(4,4),'constant',constant_values = 0)"
   ]
  },
  {
   "cell_type": "code",
   "execution_count": 19,
   "metadata": {},
   "outputs": [
    {
     "data": {
      "text/plain": [
       "(255, 270)"
      ]
     },
     "execution_count": 19,
     "metadata": {},
     "output_type": "execute_result"
    }
   ],
   "source": [
    "A_matrix_padding.shape"
   ]
  },
  {
   "cell_type": "code",
   "execution_count": 20,
   "metadata": {},
   "outputs": [
    {
     "data": {
      "image/png": "[encoded data removed]",
      "text/plain": [
       "<Figure size 432x288 with 1 Axes>"
      ]
     },
     "metadata": {
      "needs_background": "light"
     },
     "output_type": "display_data"
    }
   ],
   "source": [
    "import matplotlib.pyplot as plt\n",
    "plt.imshow(A_matrix_padding,cmap='gray')\n",
    "plt.title(\"training result\")\n",
    "plt.show()"
   ]
  },
  {
   "cell_type": "code",
   "execution_count": 21,
   "metadata": {},
   "outputs": [],
   "source": [
    "# store the test data as a numpy array\n",
    "im_test = imageio.imread('homework1/cheetah_mask.bmp')\n",
    "im_test_array = np.array(im_test)\n",
    "# convert 255 to 1 for error calculation\n",
    "im_test_array = im_test_array / 255"
   ]
  },
  {
   "cell_type": "code",
   "execution_count": 22,
   "metadata": {},
   "outputs": [],
   "source": [
    "a = np.absolute(im_test_array - A_matrix_padding)"
   ]
  },
  {
   "cell_type": "code",
   "execution_count": 23,
   "metadata": {},
   "outputs": [],
   "source": [
    "prob_error = np.sum(a) / (255 * 270)"
   ]
  },
  {
   "cell_type": "code",
   "execution_count": 24,
   "metadata": {},
   "outputs": [
    {
     "data": {
      "text/plain": [
       "0.24422657952069718"
      ]
     },
     "execution_count": 24,
     "metadata": {},
     "output_type": "execute_result"
    }
   ],
   "source": [
    "prob_error"
   ]
  }
 ],
 "metadata": {
  "kernelspec": {
   "display_name": "Python 3",
   "language": "python",
   "name": "python3"
  },
  "language_info": {
   "codemirror_mode": {
    "name": "ipython",
    "version": 3
   },
   "file_extension": ".py",
   "mimetype": "text/x-python",
   "name": "python",
   "nbconvert_exporter": "python",
   "pygments_lexer": "ipython3",
   "version": "3.7.3"
  }
 },
 "nbformat": 4,
 "nbformat_minor": 2
}
