{
 "cells": [
  {
   "cell_type": "code",
   "execution_count": 1,
   "metadata": {},
   "outputs": [],
   "source": [
    "import numpy as np\n",
    "from scipy.io import loadmat\n",
    "import matplotlib.pyplot as plt\n",
    "from scipy.stats import multivariate_normal\n",
    "%matplotlib inline"
   ]
  },
  {
   "cell_type": "code",
   "execution_count": 2,
   "metadata": {},
   "outputs": [],
   "source": [
    "m = loadmat('../data/TrainingSamplesDCT_8_new.mat')\n",
    "foreground,background = m['TrainsampleDCT_FG'],m['TrainsampleDCT_BG']"
   ]
  },
  {
   "cell_type": "code",
   "execution_count": 3,
   "metadata": {},
   "outputs": [],
   "source": [
    "# define the zigzag transformation\n",
    "zig_zag = np.array([[0,1,5,6,14,15,27,28],[2,4,7,13,16,26,29,42],[3,8,12,17,25,30,41,43],\n",
    "                   [9,11,18,24,31,40,44,53],[10,19,23,32,39,45,52,54],[20,22,33,38,46,51,55,60],\n",
    "                   [21,34,37,47,50,56,59,61],[35,36,48,49,57,58,62,63]])\n",
    "zz_flat = zig_zag.flatten()\n",
    "def zig_zag_transform(a):\n",
    "    result = np.zeros(64)\n",
    "    for i in range(64):\n",
    "        result[zz_flat[i]] = a[i]\n",
    "    return result"
   ]
  },
  {
   "cell_type": "code",
   "execution_count": 4,
   "metadata": {},
   "outputs": [],
   "source": [
    "# 2D DCT function\n",
    "import scipy.fftpack\n",
    "def dct2d(a):\n",
    "    return scipy.fftpack.dct(scipy.fftpack.dct( a, axis=0, norm='ortho' ),axis=1,norm='ortho')"
   ]
  },
  {
   "cell_type": "code",
   "execution_count": 5,
   "metadata": {},
   "outputs": [
    {
     "name": "stdout",
     "output_type": "stream",
     "text": [
      "(255, 270)\n"
     ]
    }
   ],
   "source": [
    "im = loadmat('../data/im_double.mat')\n",
    "im_array = im['img']\n",
    "print(im_array.shape)"
   ]
  },
  {
   "cell_type": "code",
   "execution_count": 6,
   "metadata": {},
   "outputs": [],
   "source": [
    "import imageio\n",
    "# store the test data as a numpy array\n",
    "im_test = imageio.imread('../data/cheetah_mask.bmp')\n",
    "im_test_array = np.array(im_test)\n",
    "# convert 255 to 1 for error calculation\n",
    "im_test_array = im_test_array / 255"
   ]
  },
  {
   "cell_type": "code",
   "execution_count": 7,
   "metadata": {},
   "outputs": [],
   "source": [
    "M,C,N_FG,N_BG = 5,8,foreground.shape[0],background.shape[0]"
   ]
  },
  {
   "cell_type": "code",
   "execution_count": 183,
   "metadata": {},
   "outputs": [],
   "source": [
    "def rand_init(c,sample):\n",
    "    pi = np.ones(c) * 1 / c\n",
    "#     mu = sample[np.random.randint(sample.shape[0],size = c),:]\n",
    "    mu = np.zeros((c,64))\n",
    "    cov = []\n",
    "    for i in range(c):\n",
    "        cov_temp = np.random.normal(5,0.3,size=64)\n",
    "        cov.append(np.diag(cov_temp))\n",
    "    cov = np.array(cov)\n",
    "    return pi,mu,cov"
   ]
  },
  {
   "cell_type": "code",
   "execution_count": 192,
   "metadata": {},
   "outputs": [],
   "source": [
    "def EM(c,sample,max_iter):\n",
    "    pi,mu,cov = rand_init(c,sample)\n",
    "    for i in range(max_iter):\n",
    "        # E-step\n",
    "        H = []\n",
    "        for j in range(c):\n",
    "            H_temp = multivariate_normal.pdf(sample,mean=mu[j,:],cov=cov[j,:,:]) * pi[j]\n",
    "            H.append(H_temp)\n",
    "        H = np.array(H).T\n",
    "        H = H / np.sum(H,axis = 1)[:,np.newaxis]\n",
    "        H_sum = np.sum(H,axis = 0)\n",
    "        # M-step\n",
    "        # update pi\n",
    "        pi = 1 / sample.shape[0] * H_sum\n",
    "        # update mean\n",
    "        mu_update = []\n",
    "        for j in range(c):\n",
    "            mu_temp = np.sum(H[:,j][:,np.newaxis] * sample,axis = 0) / H_sum[j]\n",
    "            mu_update.append(mu_temp)\n",
    "        # update covariance\n",
    "        cov_update = []\n",
    "        for j in range(c):\n",
    "            x_temp = sample - mu[j,:]\n",
    "            cov_temp = np.sum((x_temp ** 2) * H[:,j][:,np.newaxis],axis = 0) / H_sum[j]\n",
    "            # make sure cov is not too small\n",
    "            cov_temp[cov_temp < 1e-6] = 1e-6\n",
    "            cov_temp = np.diag(cov_temp)\n",
    "            cov_update.append(cov_temp)\n",
    "        cov = np.array(cov_update)\n",
    "        mu = np.array(mu_update)\n",
    "#         print(likelihood(pi,mu,cov,H,sample))\n",
    "    return pi,mu,cov,H"
   ]
  },
  {
   "cell_type": "code",
   "execution_count": 191,
   "metadata": {},
   "outputs": [
    {
     "data": {
      "text/plain": [
       "36995.17187000675"
      ]
     },
     "execution_count": 191,
     "metadata": {},
     "output_type": "execute_result"
    }
   ],
   "source": [
    "likelihood(pi_FG,mu_FG,cov_FG,H,foreground)"
   ]
  },
  {
   "cell_type": "code",
   "execution_count": 199,
   "metadata": {},
   "outputs": [],
   "source": [
    "def likelihood(pi,mu,cov,H,sample):\n",
    "    result = 0\n",
    "    for j in range(pi.shape[0]):\n",
    "        density = multivariate_normal.pdf(sample,mean=mu[j,:],cov=cov[j,:,:]) * pi[j]\n",
    "        for i in range(sample.shape[0]):\n",
    "            if density[i] < 1e-4:\n",
    "                continue\n",
    "            result += np.log(density[i]) * H[i][j]\n",
    "    return result"
   ]
  },
  {
   "cell_type": "code",
   "execution_count": null,
   "metadata": {},
   "outputs": [],
   "source": []
  }
 ],
 "metadata": {
  "kernelspec": {
   "display_name": "Python 3",
   "language": "python",
   "name": "python3"
  },
  "language_info": {
   "codemirror_mode": {
    "name": "ipython",
    "version": 3
   },
   "file_extension": ".py",
   "mimetype": "text/x-python",
   "name": "python",
   "nbconvert_exporter": "python",
   "pygments_lexer": "ipython3",
   "version": "3.7.3"
  }
 },
 "nbformat": 4,
 "nbformat_minor": 2
}
