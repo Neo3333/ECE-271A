{
 "cells": [
  {
   "cell_type": "markdown",
   "metadata": {},
   "source": [
    "# ECE 271A HW \\#3 The Cheetah Problem (Continued)"
   ]
  },
  {
   "cell_type": "code",
   "execution_count": 1,
   "metadata": {},
   "outputs": [],
   "source": [
    "import numpy as np\n",
    "from scipy.io import loadmat\n",
    "m = loadmat('hw3Data/TrainingSamplesDCT_subsets_8.mat')\n",
    "p1 = loadmat('hw3Data/Prior_1.mat')\n",
    "p2 = loadmat('hw3Data/Prior_2.mat')\n",
    "alpha = loadmat('hw3Data/Alpha.mat')"
   ]
  },
  {
   "cell_type": "code",
   "execution_count": 2,
   "metadata": {},
   "outputs": [],
   "source": [
    "BG1,BG2,BG3,BG4 = m['D1_BG'],m['D2_BG'],m['D3_BG'],m['D4_BG']\n",
    "FG1,FG2,FG3,FG4 = m['D1_FG'],m['D2_FG'],m['D3_FG'],m['D4_FG']\n",
    "w0_1,mu0_FG_1,mu0_BG_1 = p1['W0'],p1['mu0_FG'].T,p1['mu0_BG'].T\n",
    "w0_2,mu0_FG_2,mu0_BG_2 = p2['W0'],p2['mu0_FG'].T,p2['mu0_BG'].T\n",
    "a = alpha['alpha']"
   ]
  },
  {
   "cell_type": "code",
   "execution_count": 3,
   "metadata": {},
   "outputs": [],
   "source": [
    "BG = [BG1,BG2,BG3,BG4]\n",
    "FG = [FG1,FG2,FG3,FG4]\n",
    "w0 = [w0_1,w0_2]\n",
    "mu0_FG = [mu0_FG_1,mu0_FG_2]\n",
    "mu0_BG = [mu0_BG_1,mu0_BG_2]"
   ]
  },
  {
   "cell_type": "code",
   "execution_count": 4,
   "metadata": {},
   "outputs": [
    {
     "name": "stdout",
     "output_type": "stream",
     "text": [
      "(64, 1)\n"
     ]
    }
   ],
   "source": [
    "print(mu0_BG[1].shape)"
   ]
  },
  {
   "cell_type": "code",
   "execution_count": 5,
   "metadata": {},
   "outputs": [],
   "source": [
    "# define the zigzag transformation\n",
    "zig_zag = np.array([[0,1,5,6,14,15,27,28],[2,4,7,13,16,26,29,42],[3,8,12,17,25,30,41,43],\n",
    "                   [9,11,18,24,31,40,44,53],[10,19,23,32,39,45,52,54],[20,22,33,38,46,51,55,60],\n",
    "                   [21,34,37,47,50,56,59,61],[35,36,48,49,57,58,62,63]])\n",
    "zz_flat = zig_zag.flatten()\n",
    "def zig_zag_transform(a):\n",
    "    result = np.zeros(64)\n",
    "    for i in range(64):\n",
    "        result[zz_flat[i]] = a[i]\n",
    "    return result"
   ]
  },
  {
   "cell_type": "code",
   "execution_count": 6,
   "metadata": {},
   "outputs": [],
   "source": [
    "# 2D DCT function\n",
    "import scipy.fftpack\n",
    "def dct2d(a):\n",
    "    return scipy.fftpack.dct(scipy.fftpack.dct( a, axis=0, norm='ortho' ),axis=1,norm='ortho')"
   ]
  },
  {
   "cell_type": "code",
   "execution_count": 7,
   "metadata": {},
   "outputs": [
    {
     "name": "stdout",
     "output_type": "stream",
     "text": [
      "(255, 270)\n"
     ]
    }
   ],
   "source": [
    "im = loadmat('im_double.mat')\n",
    "im_array = im['img']\n",
    "print(im_array.shape)"
   ]
  },
  {
   "cell_type": "markdown",
   "metadata": {},
   "source": [
    "### a) Bayesian BDR"
   ]
  },
  {
   "cell_type": "markdown",
   "metadata": {},
   "source": [
    "We assume the covariance matrix is known, which is $\\Sigma=\\frac{1}{N}\\sum_{i=1}^{N}(X_i-\\frac{1}{N}\\sum_{i=1}^{N}X_i)(X_i-\\frac{1}{N}\\sum_{i=1}^{N}X_i)^T$.\n",
    "<br/>\n",
    "<br/>In numpy the default coefficient in front of the sample varience is $\\frac{1}{N-1}$ so for this problem $\\Sigma = \\frac{N-1}{N}\\Sigma_{numpy}.$"
   ]
  },
  {
   "cell_type": "code",
   "execution_count": 8,
   "metadata": {},
   "outputs": [],
   "source": [
    "cov_FG,cov_BG = [],[]\n",
    "mu_FG,mu_BG = [],[]\n",
    "for i in range(len(FG)):\n",
    "    FG_cov = np.cov(FG[i].T) * (FG[i].shape[0]-1)/(FG[i].shape[0])\n",
    "    BG_cov = np.cov(BG[i].T) * (BG[i].shape[0]-1)/(BG[i].shape[0])\n",
    "    FG_mu = np.mean(FG[i],axis = 0)[:,np.newaxis]\n",
    "    BG_mu = np.mean(BG[i],axis = 0)[:,np.newaxis]\n",
    "    cov_FG.append(FG_cov)\n",
    "    cov_BG.append(BG_cov)\n",
    "    mu_FG.append(FG_mu)\n",
    "    mu_BG.append(BG_mu)"
   ]
  },
  {
   "cell_type": "code",
   "execution_count": 9,
   "metadata": {},
   "outputs": [
    {
     "data": {
      "text/plain": [
       "4"
      ]
     },
     "execution_count": 9,
     "metadata": {},
     "output_type": "execute_result"
    }
   ],
   "source": [
    "len(cov_FG)"
   ]
  },
  {
   "cell_type": "markdown",
   "metadata": {},
   "source": [
    "For both strategy 1 and strategy 2, $\\mu_0$ is given, $\\Sigma_{0ii}=\\alpha w_i$"
   ]
  },
  {
   "cell_type": "code",
   "execution_count": 10,
   "metadata": {},
   "outputs": [],
   "source": [
    "temp = a.T.dot(w0[0])\n",
    "cov0 = np.zeros((9,4096))\n",
    "cov0[:,[i for i in range(0,4097,65)]] += temp\n",
    "cov0_1 = cov0.reshape(9,64,64)"
   ]
  },
  {
   "cell_type": "code",
   "execution_count": 11,
   "metadata": {},
   "outputs": [],
   "source": [
    "temp = a.T.dot(w0[1])\n",
    "cov0 = np.zeros((9,4096))\n",
    "cov0[:,[i for i in range(0,4097,65)]] += temp\n",
    "cov0_2 = cov0.reshape(9,64,64)"
   ]
  },
  {
   "cell_type": "code",
   "execution_count": 12,
   "metadata": {},
   "outputs": [],
   "source": [
    "cov0 = [cov0_1,cov0_2]"
   ]
  },
  {
   "cell_type": "markdown",
   "metadata": {},
   "source": [
    "Here we want to compute the posterior $P_{\\mu|T}(\\mu|D_1)$ given that the prior is $P_{\\mu}(\\mu)=G(\\mu,\\mu_0,\\Sigma_0)$ and $P_{X|\\mu,\\Sigma}=G(x,\\mu,\\Sigma)$.\n",
    "<br/>\n",
    "<br/>By Bayes Rule $P_{\\mu|T}(\\mu|D_1)\\propto P_{\\mu}(\\mu)*\\prod_{i=1}^{N}{P_{X|\\mu}(x_i|\\mu)}$. Here we define $C$ as constant,everything not related to $\\mu$ will be viewed as constant.\n",
    "<br/>\n",
    "<br/>So $\\log{P_{\\mu|T}(\\mu|D_1)} = -\\frac{N}{2}\\mu^T\\Sigma^{-1}\\mu-\\frac{1}{2}\\mu^T\\Sigma_0^{-1}\\mu+\\mu_0^T\\Sigma_0^{-1}\\mu+\\sum_{i=1}{N}{\\mu^T\\Sigma^{-1}x_i}+C=\\frac{1}{2}\\mu^T(N\\Sigma^{-1}+\\Sigma_0^{-1})\\mu+\\mu^T(\\Sigma_0^{-1}\\mu_0+\\Sigma^{-1}\\sum_{i=0}{N}{x_i})+C$.\n",
    "<br/>\n",
    "<br/> One of the mathematical properties of Gaussian is that the product of Gaussian PDF is still a Gaussain PDF. So $P_{\\mu|T}(\\mu|D_1)$ must still be a Gaussian.\n",
    "<br/>\n",
    "<br/>So $\\log{P_{\\mu|T}(\\mu|D_1)} = \\frac{1}{2}(\\mu-A)^T(N\\Sigma^{-1}+\\Sigma_0^{-1})(\\mu-A)$ where $A=(N\\Sigma^{-1}+\\Sigma_0^{-1})^{-1}(\\Sigma_0^{-1}\\mu_0+\\Sigma^{-1}\\sum_{i=1}^{N}{x_i})$\n",
    "<br/>\n",
    "<br/>Given that $P_{\\mu|T}(\\mu|D_1)=G(\\mu,\\mu_1,\\Sigma_1)$,we have:\n",
    "<br/>\n",
    "<br/>$\\mu_1=A=(N\\Sigma^{-1}+\\Sigma_0^{-1})^{-1}(\\Sigma_0^{-1}\\mu_0+\\Sigma^{-1}\\sum_{i=1}^{N}{x_i})$;$\\quad$$\\Sigma_1=(N\\Sigma^{-1}+\\Sigma_0^{-1})^{-1}$.\n",
    "<br/>\n",
    "<br/>By further calculation, we can deduce that:\n",
    "<br/>\n",
    "<br/>$\\mu_1=\\Sigma_0(\\Sigma_0+\\frac{1}{N}\\Sigma)^{-1}(\\frac{1}{N}\\sum_{i=1}^{N}x_i)+\\frac{1}{N}\\Sigma(\\Sigma_0+\\frac{1}{N}\\Sigma)^{-1}\\mu_0;\\quad\\Sigma_1=\\Sigma_0(\\Sigma_0+\\frac{1}{N}\\Sigma)^{-1}\\frac{1}{N}\\Sigma$"
   ]
  },
  {
   "cell_type": "code",
   "execution_count": 13,
   "metadata": {},
   "outputs": [],
   "source": [
    "from numpy.linalg import inv,det\n",
    "cov1_FG_1,cov1_FG_2 = [],[]\n",
    "cov1_BG_1,cov1_BG_2 = [],[]\n",
    "mu1_FG_1,mu1_FG_2 = [],[]\n",
    "mu1_BG_1,mu1_BG_2 = [],[]\n",
    "for i in range(len(FG)):\n",
    "    for j in range(len(cov0)):\n",
    "        mu1_FG,mu1_BG = np.zeros(shape = (9,64,1),dtype = 'float'),np.zeros(shape = (9,64,1),dtype = 'float')\n",
    "        cov1_FG,cov1_BG = np.zeros(shape = (9,64,64),dtype = 'float'),np.zeros(shape = (9,64,64),dtype = 'float')\n",
    "        for k in range(a.shape[1]):\n",
    "            cov0_FG,cov0_BG = cov0[j][k],cov0[j][k]\n",
    "            weight1_FG = cov0_FG.dot(inv(cov0_FG + cov_FG[i]/FG[i].shape[0]))\n",
    "            weight1_BG = cov0_BG.dot(inv(cov0_BG + cov_BG[i]/BG[i].shape[0]))\n",
    "            weight2_FG = (cov_FG[i]/FG[i].shape[0]).dot(inv(cov0_FG + cov_FG[i]/FG[i].shape[0]))\n",
    "            weight2_BG = (cov_BG[i]/BG[i].shape[0]).dot(inv(cov0_BG + cov_BG[i]/BG[i].shape[0]))\n",
    "            FG_mu1 = weight1_FG.dot(mu_FG[i]) + weight2_FG.dot(mu0_FG[j])\n",
    "            BG_mu1 = weight1_BG.dot(mu_BG[i]) + weight2_BG.dot(mu0_BG[j])\n",
    "            FG_cov1 = (cov0_FG.dot(inv(cov0_FG + cov_FG[i]/FG[i].shape[0]))).dot(cov_FG[i]/FG[i].shape[0])\n",
    "            BG_cov1 = (cov0_BG.dot(inv(cov0_BG + cov_BG[i]/BG[i].shape[0]))).dot(cov_BG[i]/BG[i].shape[0])\n",
    "            mu1_FG[k] = mu1_FG[k] + FG_mu1\n",
    "            mu1_BG[k] = mu1_BG[k] + BG_mu1\n",
    "            cov1_FG[k] = cov1_FG[k] + FG_cov1\n",
    "            cov1_BG[k] = cov1_BG[k] + BG_cov1\n",
    "        if j == 0:\n",
    "            cov1_FG_1.append(cov1_FG)\n",
    "            cov1_BG_1.append(cov1_BG)\n",
    "            mu1_FG_1.append(mu1_FG)\n",
    "            mu1_BG_1.append(mu1_BG)\n",
    "        else:\n",
    "            cov1_FG_2.append(cov1_FG)\n",
    "            cov1_BG_2.append(cov1_BG)\n",
    "            mu1_FG_2.append(mu1_FG)\n",
    "            mu1_BG_2.append(mu1_BG)"
   ]
  },
  {
   "cell_type": "markdown",
   "metadata": {},
   "source": [
    "Next step is to compute the predictive distribution using the posterior distribution of $\\mu$.\n",
    "<br/>\n",
    "<br/>$P_{X|T}(x|D_1)=\\int_{\\mu}P_{X|\\mu,\\Sigma}(x|\\mu,\\Sigma)*P_{\\mu|T}(\\mu|D_1)d\\mu=\\int_{\\mu}G(x,\\mu,\\Sigma)*G(\\mu,\\mu_1,\\Sigma_1)d\\mu=G(x,\\mu_1,\\Sigma_1+\\Sigma)$"
   ]
  },
  {
   "cell_type": "code",
   "execution_count": 14,
   "metadata": {},
   "outputs": [
    {
     "data": {
      "text/plain": [
       "(9, 64, 64)"
      ]
     },
     "execution_count": 14,
     "metadata": {},
     "output_type": "execute_result"
    }
   ],
   "source": [
    " cov1_FG_1[0].shape"
   ]
  },
  {
   "cell_type": "code",
   "execution_count": 15,
   "metadata": {},
   "outputs": [],
   "source": [
    "mu1_pred_FG_1,mu1_pred_FG_2 = mu1_FG_1,mu1_FG_2\n",
    "mu1_pred_BG_1,mu1_pred_BG_2 = mu1_BG_1,mu1_BG_2\n",
    "cov1_pred_FG_1,cov1_pred_FG_2 = [],[]\n",
    "cov1_pred_BG_1,cov1_pred_BG_2 = [],[]\n",
    "for i in range(len(FG)):\n",
    "    FG_1 = cov1_FG_1[i] + cov_FG[i]\n",
    "    FG_2 = cov1_FG_2[i] + cov_FG[i]\n",
    "    BG_1 = cov1_BG_1[i] + cov_BG[i]\n",
    "    BG_2 = cov1_BG_2[i] + cov_BG[i]\n",
    "    cov1_pred_FG_1.append(FG_1)\n",
    "    cov1_pred_FG_2.append(FG_2)\n",
    "    cov1_pred_BG_1.append(BG_1)\n",
    "    cov1_pred_BG_2.append(BG_2)"
   ]
  },
  {
   "cell_type": "markdown",
   "metadata": {},
   "source": [
    "Maximum Likelihood for the class priors:\n",
    "<br/>\n",
    "<br/>$P_Y(i=1)=\\frac{\\sum_{t=1}^{N}I(1,Y_t)}{N}\\quad P_Y(i=0)=\\frac{\\sum_{t=1}^{N}I(0,Y_t)}{N}$"
   ]
  },
  {
   "cell_type": "code",
   "execution_count": 16,
   "metadata": {},
   "outputs": [
    {
     "name": "stdout",
     "output_type": "stream",
     "text": [
      "[0.2 0.2 0.2 0.2]\n"
     ]
    }
   ],
   "source": [
    "prior_cheetah,prior_grass = [],[]\n",
    "for i in range(len(FG)):\n",
    "    prior_cheetah.append(FG[i].shape[0]/(FG[i].shape[0]+BG[i].shape[0]))\n",
    "    prior_grass.append(BG[i].shape[0]/(FG[i].shape[0]+BG[i].shape[0]))\n",
    "prior_cheetah = np.array(prior_cheetah)\n",
    "prior_grass = np.array(prior_grass)\n",
    "print(prior_cheetah)"
   ]
  },
  {
   "cell_type": "markdown",
   "metadata": {},
   "source": [
    "Bayesian BDR: $i^*(x)=argmax_i(P_{X|T}(x|D_1,i)*P_Y(i))$"
   ]
  },
  {
   "cell_type": "code",
   "execution_count": 17,
   "metadata": {},
   "outputs": [],
   "source": [
    "import imageio\n",
    "error_list_1,error_list_2=[],[]\n",
    "# store the test data as a numpy array\n",
    "im_test = imageio.imread('../homework1/cheetah_mask.bmp')\n",
    "im_test_array = np.array(im_test)\n",
    "# convert 255 to 1 for error calculation\n",
    "im_test_array = im_test_array / 255"
   ]
  },
  {
   "cell_type": "code",
   "execution_count": 18,
   "metadata": {},
   "outputs": [
    {
     "name": "stdout",
     "output_type": "stream",
     "text": [
      "[0.14171387 0.14203341 0.14271605 0.14287582 0.14287582 0.14287582\n",
      " 0.14287582 0.14287582 0.14287582]\n",
      "0\n",
      "[0.06325345 0.0654902  0.06843863 0.06896151 0.06907771 0.06907771\n",
      " 0.06907771 0.06907771 0.06907771]\n",
      "1\n",
      "[0.07676107 0.07934641 0.08206245 0.08252723 0.08259985 0.08259985\n",
      " 0.08259985 0.08259985 0.08259985]\n",
      "2\n",
      "[0.07068991 0.07405955 0.07658678 0.07718228 0.07721133 0.07722585\n",
      " 0.07722585 0.07722585 0.07722585]\n",
      "3\n"
     ]
    }
   ],
   "source": [
    "# BDR using Beysian Parameter Estimation using prior 1\n",
    "for t in range(len(FG)):\n",
    "    A_list = []\n",
    "    for k in range(cov1_pred_FG_1[t].shape[0]):\n",
    "        A = []\n",
    "        cov_pred_FG_inv = inv(cov1_pred_FG_1[t][k])\n",
    "        cov_pred_BG_inv = inv(cov1_pred_BG_1[t][k])\n",
    "        cov_pred_FG_det = det(cov1_pred_FG_1[t][k])\n",
    "        cov_pred_BG_det = det(cov1_pred_BG_1[t][k])\n",
    "        for i in range(0,len(im_array)-8):\n",
    "            for j in range(0,im_array.shape[1]-8):\n",
    "                FG_prob,BG_prob = 0,0\n",
    "                row_start,row_end = i,i+8\n",
    "                col_start,col_end = j,j+8\n",
    "                block = im_array[row_start:row_end,col_start:col_end]\n",
    "                block_dct = dct2d(block).flatten()\n",
    "                block_dct = zig_zag_transform(block_dct)\n",
    "                # foreground\n",
    "                temp1 = block_dct[:,np.newaxis] - mu1_pred_FG_1[t][k]\n",
    "                temp2 = (temp1.T.dot(cov_pred_FG_inv)).dot(temp1)\n",
    "                temp3 = np.log((2*np.pi)**64 * cov_pred_FG_det) - 2 * np.log(prior_cheetah[t])\n",
    "                FG_prob = temp2 + temp3\n",
    "                #background\n",
    "                temp1 = block_dct[:,np.newaxis] - mu1_pred_BG_1[t][k]\n",
    "                temp2 = (temp1.T.dot(cov_pred_BG_inv)).dot(temp1)\n",
    "                temp3 = np.log((2*np.pi)**64 * cov_pred_BG_det) - 2 * np.log(prior_grass[t])\n",
    "                BG_prob = temp2 + temp3\n",
    "                if FG_prob >= BG_prob:\n",
    "                    A.append(0)\n",
    "                else:\n",
    "                    A.append(1)\n",
    "        A_matrix = np.reshape(A,(247,262))\n",
    "        A_matrix_padding = np.lib.pad(A_matrix,(4,4),'constant',constant_values = 0)\n",
    "        A_list.append(A_matrix_padding.flatten())\n",
    "    A_list = np.array(A_list)\n",
    "    error_list_Bayesian = []\n",
    "    for i in range(A_list.shape[0]):\n",
    "        e = np.absolute(im_test_array.flatten() - A_list[i])\n",
    "        prob_error = np.sum(e) / (255*270)\n",
    "        error_list_Bayesian.append(prob_error)\n",
    "    error_list_Bayesian = np.array(error_list_Bayesian)\n",
    "    print(error_list_Bayesian)\n",
    "    print(t)\n",
    "    error_list_1.append(error_list_Bayesian)\n",
    "error_list_1 = np.array(error_list_1)"
   ]
  },
  {
   "cell_type": "code",
   "execution_count": 19,
   "metadata": {},
   "outputs": [
    {
     "data": {
      "text/plain": [
       "(4, 9)"
      ]
     },
     "execution_count": 19,
     "metadata": {},
     "output_type": "execute_result"
    }
   ],
   "source": [
    "error_list_1.shape"
   ]
  },
  {
   "cell_type": "code",
   "execution_count": 20,
   "metadata": {},
   "outputs": [
    {
     "name": "stdout",
     "output_type": "stream",
     "text": [
      "[0.14938272 0.14718954 0.143878   0.14300654 0.14289034 0.14287582\n",
      " 0.14287582 0.14287582 0.14287582]\n",
      "0\n",
      "[0.08965868 0.07850399 0.07068991 0.06928105 0.06907771 0.06907771\n",
      " 0.06907771 0.06907771 0.06907771]\n",
      "1\n",
      "[0.10939724 0.09410312 0.08450254 0.08277415 0.08259985 0.08259985\n",
      " 0.08259985 0.08259985 0.08259985]\n",
      "2\n",
      "[0.10152505 0.08655047 0.07853304 0.07740015 0.0772549  0.07722585\n",
      " 0.07722585 0.07722585 0.07722585]\n",
      "3\n"
     ]
    }
   ],
   "source": [
    "# BDR using Beysian Parameter Estimation using prior 2\n",
    "for t in range(len(FG)):\n",
    "    A_list = []\n",
    "    for k in range(cov1_pred_FG_2[t].shape[0]):\n",
    "        A = []\n",
    "        cov_pred_FG_inv = inv(cov1_pred_FG_2[t][k])\n",
    "        cov_pred_BG_inv = inv(cov1_pred_BG_2[t][k])\n",
    "        cov_pred_FG_det = det(cov1_pred_FG_2[t][k])\n",
    "        cov_pred_BG_det = det(cov1_pred_BG_2[t][k])\n",
    "        for i in range(0,len(im_array)-8):\n",
    "            for j in range(0,im_array.shape[1]-8):\n",
    "                FG_prob,BG_prob = 0,0\n",
    "                row_start,row_end = i,i+8\n",
    "                col_start,col_end = j,j+8\n",
    "                block = im_array[row_start:row_end,col_start:col_end]\n",
    "                block_dct = dct2d(block).flatten()\n",
    "                block_dct = zig_zag_transform(block_dct)\n",
    "                # foreground\n",
    "                temp1 = block_dct[:,np.newaxis] - mu1_pred_FG_2[t][k]\n",
    "                temp2 = (temp1.T.dot(cov_pred_FG_inv)).dot(temp1)\n",
    "                temp3 = np.log((2*np.pi)**64 * cov_pred_FG_det) - 2 * np.log(prior_cheetah[t])\n",
    "                FG_prob = temp2 + temp3\n",
    "                #background\n",
    "                temp1 = block_dct[:,np.newaxis] - mu1_pred_BG_2[t][k]\n",
    "                temp2 = (temp1.T.dot(cov_pred_BG_inv)).dot(temp1)\n",
    "                temp3 = np.log((2*np.pi)**64 * cov_pred_BG_det) - 2 * np.log(prior_grass[t])\n",
    "                BG_prob = temp2 + temp3\n",
    "                if FG_prob >= BG_prob:\n",
    "                    A.append(0)\n",
    "                else:\n",
    "                    A.append(1)\n",
    "        A_matrix = np.reshape(A,(247,262))\n",
    "        A_matrix_padding = np.lib.pad(A_matrix,(4,4),'constant',constant_values = 0)\n",
    "        A_list.append(A_matrix_padding.flatten())\n",
    "    A_list = np.array(A_list)\n",
    "    error_list_Bayesian = []\n",
    "    for i in range(A_list.shape[0]):\n",
    "        e = np.absolute(im_test_array.flatten() - A_list[i])\n",
    "        prob_error = np.sum(e) / (255*270)\n",
    "        error_list_Bayesian.append(prob_error)\n",
    "    error_list_Bayesian = np.array(error_list_Bayesian)\n",
    "    print(error_list_Bayesian)\n",
    "    print(t)\n",
    "    error_list_2.append(error_list_Bayesian)\n",
    "error_list_2 = np.array(error_list_2)"
   ]
  },
  {
   "cell_type": "code",
   "execution_count": 21,
   "metadata": {},
   "outputs": [
    {
     "data": {
      "text/plain": [
       "(4, 9)"
      ]
     },
     "execution_count": 21,
     "metadata": {},
     "output_type": "execute_result"
    }
   ],
   "source": [
    "error_list_2.shape"
   ]
  },
  {
   "cell_type": "code",
   "execution_count": 22,
   "metadata": {},
   "outputs": [
    {
     "data": {
      "text/plain": [
       "(64, 64)"
      ]
     },
     "execution_count": 22,
     "metadata": {},
     "output_type": "execute_result"
    }
   ],
   "source": [
    "(np.ones(64) - mu_FG[0]).shape"
   ]
  },
  {
   "cell_type": "markdown",
   "metadata": {},
   "source": [
    "### b) Maximum Likelihood BDR"
   ]
  },
  {
   "cell_type": "markdown",
   "metadata": {},
   "source": [
    "ML BDR: $i^*(x)=argmax_iP_{X|Y}(x|i;\\theta_i^*)P_Y(i), \\theta_i^*=argmax_{\\theta}P_{X|Y}(D|i,\\theta).$"
   ]
  },
  {
   "cell_type": "code",
   "execution_count": 23,
   "metadata": {},
   "outputs": [
    {
     "name": "stdout",
     "output_type": "stream",
     "text": [
      "0.14403776325344952\n",
      "0.06893246187363834\n",
      "0.08255628177196804\n",
      "0.07735657225853304\n"
     ]
    }
   ],
   "source": [
    "# BDR using ML estimation\n",
    "error_list_ML = []\n",
    "for t in range(len(FG)):\n",
    "    A_ML = []\n",
    "    cov_FG_inv = inv(cov_FG[t])\n",
    "    cov_BG_inv = inv(cov_BG[t])\n",
    "    cov_FG_det = det(cov_FG[t])\n",
    "    cov_BG_det = det(cov_BG[t])\n",
    "    for i in range(0,len(im_array)-8):\n",
    "        for j in range(0,im_array.shape[1]-8):\n",
    "            FG_prob,BG_prob = 0,0\n",
    "            row_start,row_end = i,i+8\n",
    "            col_start,col_end = j,j+8\n",
    "            block = im_array[row_start:row_end,col_start:col_end]\n",
    "            block_dct = dct2d(block).flatten()\n",
    "            block_dct = zig_zag_transform(block_dct)\n",
    "            # foreground\n",
    "            temp1 = block_dct[:,np.newaxis] - mu_FG[t]\n",
    "            temp2 = (temp1.T.dot(cov_FG_inv)).dot(temp1)\n",
    "            temp3 = np.log((2*np.pi)**64 * cov_FG_det) - 2 * np.log(prior_cheetah[t])\n",
    "            FG_prob = temp2 + temp3\n",
    "            #background\n",
    "#             temp = block_dct - mu_BG1_ML\n",
    "            temp1 = block_dct[:,np.newaxis] - mu_BG[t]\n",
    "            temp2 = (temp1.T.dot(cov_BG_inv)).dot(temp1)\n",
    "            temp3 = np.log((2*np.pi)**64 * cov_BG_det) - 2 * np.log(prior_grass[t])\n",
    "            BG_prob = temp2 + temp3\n",
    "            if FG_prob >= BG_prob:\n",
    "                A_ML.append(0)\n",
    "            else:\n",
    "                A_ML.append(1)\n",
    "    A_ML = np.array(A_ML)\n",
    "    A_ML_matrix = np.reshape(A_ML,(247,262))\n",
    "    A_ML_matrix_padding = np.lib.pad(A_ML_matrix,(4,4),'constant',constant_values = 0)\n",
    "    e = np.absolute(im_test_array.flatten() - A_ML_matrix_padding.flatten())\n",
    "    prob_error = np.sum(e) / (255 * 270)\n",
    "    print(prob_error)\n",
    "    error_list_ML.append(np.ones(9) * prob_error)\n",
    "error_list_ML = np.array(error_list_ML)"
   ]
  },
  {
   "cell_type": "code",
   "execution_count": 24,
   "metadata": {},
   "outputs": [
    {
     "data": {
      "text/plain": [
       "(4, 9)"
      ]
     },
     "execution_count": 24,
     "metadata": {},
     "output_type": "execute_result"
    }
   ],
   "source": [
    "error_list_ML.shape"
   ]
  },
  {
   "cell_type": "markdown",
   "metadata": {},
   "source": [
    "### c) Bayes MAP-BDR"
   ]
  },
  {
   "cell_type": "markdown",
   "metadata": {},
   "source": [
    "Bayes MAP BDR: $i^*(x)=argmax_iP_{X|Y}(x|i;\\theta_i^{MAP})P_Y(i), \\theta_i^{MAP}=argmax_{\\theta}P_{T|Y,\\Theta}(D|i,\\theta)P_{\\Theta|Y}(\\theta|i).$"
   ]
  },
  {
   "cell_type": "code",
   "execution_count": 36,
   "metadata": {},
   "outputs": [],
   "source": [
    "error_list_M1,error_list_M2=[],[]"
   ]
  },
  {
   "cell_type": "code",
   "execution_count": 37,
   "metadata": {},
   "outputs": [
    {
     "data": {
      "text/plain": [
       "4"
      ]
     },
     "execution_count": 37,
     "metadata": {},
     "output_type": "execute_result"
    }
   ],
   "source": [
    "len(FG)"
   ]
  },
  {
   "cell_type": "code",
   "execution_count": 38,
   "metadata": {},
   "outputs": [
    {
     "name": "stdout",
     "output_type": "stream",
     "text": [
      "[0.1427451  0.14310821 0.14358751 0.14397967 0.14402324 0.14403776\n",
      " 0.14403776 0.14403776 0.14403776]\n",
      "0\n",
      "[0.0632825  0.0654902  0.06823529 0.06885984 0.06891794 0.06893246\n",
      " 0.06893246 0.06893246 0.06893246]\n",
      "1\n",
      "[0.07693537 0.0794045  0.08207698 0.08248366 0.08252723 0.08255628\n",
      " 0.08255628 0.08255628 0.08255628]\n",
      "2\n",
      "[0.07087872 0.07424837 0.0767175  0.07722585 0.07735657 0.07735657\n",
      " 0.07735657 0.07735657 0.07735657]\n",
      "3\n"
     ]
    }
   ],
   "source": [
    "# MAP Approximation with prior 1\n",
    "for t in range(len(FG)):\n",
    "    A_MAP = []\n",
    "    for k in range(mu1_pred_FG_1[t].shape[0]):\n",
    "        A = []\n",
    "        cov_pred_FG_inv = inv(cov_FG[t])\n",
    "        cov_pred_BG_inv = inv(cov_BG[t])\n",
    "        cov_pred_FG_det = det(cov_FG[t])\n",
    "        cov_pred_BG_det = det(cov_BG[t])\n",
    "        for i in range(0,len(im_array)-8):\n",
    "            for j in range(0,im_array.shape[1]-8):\n",
    "                FG_prob,BG_prob = 0,0\n",
    "                row_start,row_end = i,i+8\n",
    "                col_start,col_end = j,j+8\n",
    "                block = im_array[row_start:row_end,col_start:col_end]\n",
    "                block_dct = dct2d(block).flatten()\n",
    "                block_dct = zig_zag_transform(block_dct)\n",
    "                # foreground\n",
    "                temp1 = block_dct[:,np.newaxis] - mu1_pred_FG_1[t][k]\n",
    "                temp2 = (temp1.T.dot(cov_pred_FG_inv)).dot(temp1)\n",
    "                temp3 = np.log((2*np.pi)**64 * cov_pred_FG_det) - 2 * np.log(prior_cheetah[t])\n",
    "                FG_prob = temp2 + temp3\n",
    "                #background\n",
    "                temp1 = block_dct[:,np.newaxis] - mu1_pred_BG_1[t][k]\n",
    "                temp2 = (temp1.T.dot(cov_pred_BG_inv)).dot(temp1)\n",
    "                temp3 = np.log((2*np.pi)**64 * cov_pred_BG_det) - 2 * np.log(prior_grass[t])\n",
    "                BG_prob = temp2 + temp3\n",
    "                if FG_prob >= BG_prob:\n",
    "                    A.append(0)\n",
    "                else:\n",
    "                    A.append(1)\n",
    "        A_matrix = np.reshape(A,(247,262))\n",
    "        A_matrix_padding = np.lib.pad(A_matrix,(4,4),'constant',constant_values = 0)\n",
    "        A_MAP.append(A_matrix_padding.flatten())\n",
    "    A_MAP = np.array(A_MAP)\n",
    "    error_list_MAP = []\n",
    "    for i in range(A_MAP.shape[0]):\n",
    "        e = np.absolute(im_test_array.flatten() - A_MAP[i])\n",
    "        prob_error = np.sum(e) / (255*270)\n",
    "        error_list_MAP.append(prob_error)\n",
    "    error_list_MAP = np.array(error_list_MAP)\n",
    "    print(error_list_MAP)\n",
    "    print(t)\n",
    "    error_list_M1.append(error_list_MAP)\n",
    "error_list_M1 = np.array(error_list_M1)"
   ]
  },
  {
   "cell_type": "code",
   "execution_count": 39,
   "metadata": {},
   "outputs": [
    {
     "data": {
      "text/plain": [
       "(4, 9)"
      ]
     },
     "execution_count": 39,
     "metadata": {},
     "output_type": "execute_result"
    }
   ],
   "source": [
    "error_list_M1.shape"
   ]
  },
  {
   "cell_type": "code",
   "execution_count": 40,
   "metadata": {},
   "outputs": [
    {
     "name": "stdout",
     "output_type": "stream",
     "text": [
      "[0.15018155 0.14788671 0.14488017 0.14419753 0.14405229 0.14403776\n",
      " 0.14403776 0.14403776 0.14403776]\n",
      "0\n",
      "[0.0896732  0.07857662 0.07061728 0.06929557 0.06894699 0.06893246\n",
      " 0.06893246 0.06893246 0.06893246]\n",
      "1\n",
      "[0.10961511 0.09423384 0.08457516 0.08270153 0.08255628 0.08255628\n",
      " 0.08255628 0.08255628 0.08255628]\n",
      "2\n",
      "[0.10175744 0.08659405 0.07856209 0.07747277 0.07735657 0.07735657\n",
      " 0.07735657 0.07735657 0.07735657]\n",
      "3\n"
     ]
    }
   ],
   "source": [
    "# MAP Approximation with prior 2\n",
    "for t in range(len(FG)):\n",
    "    A_MAP = []\n",
    "    for k in range(mu1_pred_FG_2[t].shape[0]):\n",
    "        A = []\n",
    "        cov_pred_FG_inv = inv(cov_FG[t])\n",
    "        cov_pred_BG_inv = inv(cov_BG[t])\n",
    "        cov_pred_FG_det = det(cov_FG[t])\n",
    "        cov_pred_BG_det = det(cov_BG[t])\n",
    "        for i in range(0,len(im_array)-8):\n",
    "            for j in range(0,im_array.shape[1]-8):\n",
    "                FG_prob,BG_prob = 0,0\n",
    "                row_start,row_end = i,i+8\n",
    "                col_start,col_end = j,j+8\n",
    "                block = im_array[row_start:row_end,col_start:col_end]\n",
    "                block_dct = dct2d(block).flatten()\n",
    "                block_dct = zig_zag_transform(block_dct)\n",
    "                # foreground\n",
    "                temp1 = block_dct[:,np.newaxis] - mu1_pred_FG_2[t][k]\n",
    "                temp2 = (temp1.T.dot(cov_pred_FG_inv)).dot(temp1)\n",
    "                temp3 = np.log((2*np.pi)**64 * cov_pred_FG_det) - 2 * np.log(prior_cheetah[t])\n",
    "                FG_prob = temp2 + temp3\n",
    "                #background\n",
    "                temp1 = block_dct[:,np.newaxis] - mu1_pred_BG_2[t][k]\n",
    "                temp2 = (temp1.T.dot(cov_pred_BG_inv)).dot(temp1)\n",
    "                temp3 = np.log((2*np.pi)**64 * cov_pred_BG_det) - 2 * np.log(prior_grass[t])\n",
    "                BG_prob = temp2 + temp3\n",
    "                if FG_prob >= BG_prob:\n",
    "                    A.append(0)\n",
    "                else:\n",
    "                    A.append(1)\n",
    "        A_matrix = np.reshape(A,(247,262))\n",
    "        A_matrix_padding = np.lib.pad(A_matrix,(4,4),'constant',constant_values = 0)\n",
    "        A_MAP.append(A_matrix_padding.flatten())\n",
    "    A_MAP = np.array(A_MAP)\n",
    "    error_list_MAP = []\n",
    "    for i in range(A_MAP.shape[0]):\n",
    "        e = np.absolute(im_test_array.flatten() - A_MAP[i])\n",
    "        prob_error = np.sum(e) / (255*270)\n",
    "        error_list_MAP.append(prob_error)\n",
    "    error_list_MAP = np.array(error_list_MAP)\n",
    "    print(error_list_MAP)\n",
    "    print(t)\n",
    "    error_list_M2.append(error_list_MAP)\n",
    "error_list_M2 = np.array(error_list_M2)"
   ]
  },
  {
   "cell_type": "code",
   "execution_count": 41,
   "metadata": {},
   "outputs": [
    {
     "data": {
      "text/plain": [
       "(4, 9)"
      ]
     },
     "execution_count": 41,
     "metadata": {},
     "output_type": "execute_result"
    }
   ],
   "source": [
    "error_list_M2.shape"
   ]
  },
  {
   "cell_type": "code",
   "execution_count": 42,
   "metadata": {},
   "outputs": [
    {
     "data": {
      "image/png": "[encoded data removed]",
      "text/plain": [
       "<Figure size 1728x864 with 8 Axes>"
      ]
     },
     "metadata": {
      "needs_background": "light"
     },
     "output_type": "display_data"
    }
   ],
   "source": [
    "import matplotlib.pyplot as plt\n",
    "fig=plt.figure(figsize=(24,12))\n",
    "for i in range(len(FG)):\n",
    "    for j in range(2):\n",
    "        fig.add_subplot(2,4,(2*i+j)+1)\n",
    "        x = np.log10(a.flatten())\n",
    "        if j == 0:\n",
    "            plt.plot(x,error_list_1[i],x,error_list_ML[i],x,error_list_M1[i])\n",
    "        else:\n",
    "            plt.plot(x,error_list_2[i],x,error_list_ML[i],x,error_list_M2[i])\n",
    "plt.show()"
   ]
  },
  {
   "cell_type": "code",
   "execution_count": 75,
   "metadata": {},
   "outputs": [
    {
     "data": {
      "text/plain": [
       "[]"
      ]
     },
     "execution_count": 75,
     "metadata": {},
     "output_type": "execute_result"
    }
   ],
   "source": []
  },
  {
   "cell_type": "code",
   "execution_count": null,
   "metadata": {},
   "outputs": [],
   "source": []
  }
 ],
 "metadata": {
  "kernelspec": {
   "display_name": "Python 3",
   "language": "python",
   "name": "python3"
  },
  "language_info": {
   "codemirror_mode": {
    "name": "ipython",
    "version": 3
   },
   "file_extension": ".py",
   "mimetype": "text/x-python",
   "name": "python",
   "nbconvert_exporter": "python",
   "pygments_lexer": "ipython3",
   "version": "3.7.3"
  }
 },
 "nbformat": 4,
 "nbformat_minor": 2
}
