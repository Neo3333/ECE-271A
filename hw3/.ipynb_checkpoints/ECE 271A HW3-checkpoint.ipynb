{
 "cells": [
  {
   "cell_type": "markdown",
   "metadata": {},
   "source": [
    "# ECE 271A HW \\#3 The Cheetah Problem (Continued)"
   ]
  },
  {
   "cell_type": "code",
   "execution_count": 1,
   "metadata": {},
   "outputs": [],
   "source": [
    "import numpy as np\n",
    "from scipy.io import loadmat\n",
    "m = loadmat('hw3Data/TrainingSamplesDCT_subsets_8.mat')\n",
    "p1 = loadmat('hw3Data/Prior_1.mat')\n",
    "p2 = loadmat('hw3Data/Prior_2.mat')\n",
    "alpha = loadmat('hw3Data/Alpha.mat')"
   ]
  },
  {
   "cell_type": "code",
   "execution_count": 2,
   "metadata": {},
   "outputs": [
    {
     "data": {
      "text/plain": [
       "{'__header__': b'MATLAB 5.0 MAT-file, Platform: PCWIN, Created on: Sat Oct 18 21:55:05 2003',\n",
       " '__version__': '1.0',\n",
       " '__globals__': [],\n",
       " 'D1_BG': array([[ 3.22549020e+00,  5.11750241e-02, -2.14759500e-01, ...,\n",
       "          1.52399073e-03, -1.01326344e-03, -2.16669886e-03],\n",
       "        [ 3.21127451e+00,  4.28195737e-01,  1.27579474e-01, ...,\n",
       "         -2.32421419e-04, -3.40109809e-03, -7.56633396e-04],\n",
       "        [ 3.31960784e+00,  1.08771026e-01, -2.70463598e-01, ...,\n",
       "         -9.93989794e-04,  3.66601924e-03,  2.84193169e-03],\n",
       "        ...,\n",
       "        [ 3.82745098e+00,  7.80248120e-02,  2.67211599e-02, ...,\n",
       "         -4.41652085e-04, -2.56176107e-03,  9.84718141e-04],\n",
       "        [ 2.99803922e+00,  2.78693977e-01,  7.72716643e-02, ...,\n",
       "         -9.79906551e-04, -1.74678510e-03,  2.80540129e-03],\n",
       "        [ 3.35833333e+00,  4.48602713e-04,  8.47457045e-02, ...,\n",
       "         -4.18348301e-03, -1.79875208e-03, -1.11744846e-03]]),\n",
       " 'D2_BG': array([[ 2.82549020e+00,  2.07168616e-01, -3.64468901e-02, ...,\n",
       "          2.43152578e-03, -4.53183689e-03,  2.75628599e-03],\n",
       "        [ 2.35980392e+00,  2.99001068e-03, -7.30007602e-02, ...,\n",
       "         -1.91480440e-04,  7.47174066e-04,  3.75105059e-03],\n",
       "        [ 3.20392157e+00, -2.25556775e-02, -4.43999476e-02, ...,\n",
       "          1.46467102e-03, -3.43211871e-03, -2.54081094e-03],\n",
       "        ...,\n",
       "        [ 2.93725490e+00,  8.15546510e-02, -2.86890963e-01, ...,\n",
       "          2.95821200e-04,  3.77220675e-03,  3.13887683e-04],\n",
       "        [ 3.54215686e+00,  1.22049900e-01,  4.02255842e-02, ...,\n",
       "         -2.34601425e-03, -2.33362715e-04,  2.02193713e-03],\n",
       "        [ 2.66617647e+00, -9.95211886e-02, -2.41865203e-02, ...,\n",
       "         -9.02168446e-04, -1.72114659e-03, -9.52241905e-04]]),\n",
       " 'D3_BG': array([[ 3.61127451e+00, -7.46871866e-02,  5.83121917e-02, ...,\n",
       "          5.52259811e-04, -1.02973448e-03,  1.54277417e-03],\n",
       "        [ 3.41372549e+00,  5.12259591e-02, -2.82527698e-02, ...,\n",
       "          1.02939929e-03, -1.57196376e-03,  7.02442085e-04],\n",
       "        [ 3.20784314e+00,  1.51335110e-01, -2.85447097e-01, ...,\n",
       "         -1.60260183e-03, -2.14634234e-04, -2.53388140e-03],\n",
       "        ...,\n",
       "        [ 3.81372549e+00, -2.67225394e-03, -2.41012813e-02, ...,\n",
       "          7.50295091e-04, -1.48738808e-03, -2.00202946e-04],\n",
       "        [ 3.75735294e+00,  2.24876417e-02,  3.29463257e-02, ...,\n",
       "          4.83239319e-04, -2.04357859e-03,  9.51243605e-04],\n",
       "        [ 2.92745098e+00, -6.28333759e-02, -4.30009261e-02, ...,\n",
       "         -1.92512875e-04,  1.99479814e-03,  7.40618103e-04]]),\n",
       " 'D4_BG': array([[ 3.54264706e+00,  1.27255258e-01, -3.09414765e-02, ...,\n",
       "         -7.58344536e-04, -5.49789204e-04, -2.21363340e-03],\n",
       "        [ 2.60784314e+00,  3.07983397e-01, -2.05212429e-01, ...,\n",
       "         -7.55107854e-03,  8.30527969e-04, -4.76298446e-03],\n",
       "        [ 3.28970588e+00, -2.88218740e-02,  8.74752721e-02, ...,\n",
       "          7.05794107e-05,  2.47403112e-03, -9.84283761e-04],\n",
       "        ...,\n",
       "        [ 3.42450980e+00,  4.51476254e-02, -1.98072878e-01, ...,\n",
       "         -5.62671911e-03,  1.36054567e-03, -4.17093057e-03],\n",
       "        [ 2.67892157e+00, -2.06678904e-01,  2.52560549e-01, ...,\n",
       "          2.47445010e-03, -5.37223914e-03,  3.71713792e-04],\n",
       "        [ 3.06519608e+00,  2.10018130e-01,  3.29477448e-01, ...,\n",
       "          4.26137049e-03,  1.34066817e-03,  4.82700619e-03]]),\n",
       " 'D1_FG': array([[ 8.29411765e-01, -5.18891672e-02,  1.29779586e-01, ...,\n",
       "         -6.35902181e-03, -3.11716093e-03,  2.85568788e-03],\n",
       "        [ 1.66617647e+00,  1.44124629e-01, -5.54788345e-01, ...,\n",
       "          5.14164114e-03, -2.21138517e-03, -3.21984895e-03],\n",
       "        [ 8.05882353e-01, -2.30731747e-02, -2.52747064e-02, ...,\n",
       "          3.33958090e-03,  1.15066061e-03,  3.18914562e-03],\n",
       "        ...,\n",
       "        [ 8.86274510e-01,  3.23048105e-01,  7.76588696e-02, ...,\n",
       "          1.00104774e-03,  4.57639833e-04, -2.64308902e-03],\n",
       "        [ 1.39901961e+00,  3.33580444e-02, -1.07572077e-01, ...,\n",
       "         -6.16306040e-03, -2.44915770e-03,  5.13352590e-03],\n",
       "        [ 1.79558824e+00,  2.87205460e-01, -7.47440699e-01, ...,\n",
       "         -3.53778841e-03, -3.80920968e-03, -3.67145444e-03]]),\n",
       " 'D2_FG': array([[ 1.73333333e+00,  8.51315008e-02,  6.49293858e-02, ...,\n",
       "         -6.79817432e-05,  3.21296494e-03,  1.26057122e-04],\n",
       "        [ 1.35882353e+00, -1.42262820e-02,  6.21129301e-02, ...,\n",
       "         -3.85198582e-04, -2.95373535e-03,  5.86621032e-04],\n",
       "        [ 9.04901961e-01, -5.25476152e-02,  1.19311468e-01, ...,\n",
       "          6.01929499e-03,  1.71433911e-03, -7.02075486e-03],\n",
       "        ...,\n",
       "        [ 7.61274510e-01,  1.52389697e-02, -8.95644662e-03, ...,\n",
       "          3.69820902e-03,  1.84754811e-03,  7.90656054e-04],\n",
       "        [ 1.40441176e+00, -5.18638001e-02,  1.21041700e-01, ...,\n",
       "         -1.49463263e-03, -5.61328650e-03,  6.98555854e-04],\n",
       "        [ 1.38725490e+00,  8.33652428e-02, -1.19817088e-01, ...,\n",
       "         -1.22460727e-03,  6.16700321e-03,  1.82284531e-03]]),\n",
       " 'D3_FG': array([[ 1.37598039e+00, -2.35597640e-02, -9.28278983e-02, ...,\n",
       "          5.30220264e-03, -4.56940739e-03, -4.14215034e-03],\n",
       "        [ 1.34068627e+00, -1.26241570e-02,  6.31645622e-01, ...,\n",
       "          1.69626390e-03, -3.52513736e-03,  7.35077129e-04],\n",
       "        [ 1.04656863e+00,  5.09154648e-02, -1.12344884e-01, ...,\n",
       "          6.01344700e-03,  2.68302846e-03,  7.52893869e-04],\n",
       "        ...,\n",
       "        [ 1.39803922e+00, -4.65066755e-02,  1.15768827e-01, ...,\n",
       "          5.17831226e-03,  2.62310903e-03,  7.00205730e-04],\n",
       "        [ 1.25147059e+00,  8.86170034e-02, -3.09310950e-01, ...,\n",
       "          1.10163963e-02, -7.94586098e-04, -2.43722730e-03],\n",
       "        [ 1.00343137e+00, -2.10321636e-02,  8.63639849e-02, ...,\n",
       "          1.52660753e-03,  8.33593443e-05, -4.52590804e-03]]),\n",
       " 'D4_FG': array([[ 1.00735294e+00, -1.02480644e-01,  4.94347696e-02, ...,\n",
       "          1.46876148e-03,  3.62289906e-03, -1.63908399e-03],\n",
       "        [ 1.28186275e+00, -5.78486616e-02, -1.60405568e-02, ...,\n",
       "         -8.49256872e-03,  1.51890048e-03,  1.87903202e-03],\n",
       "        [ 1.71421569e+00,  1.35802218e-01,  1.68163784e-01, ...,\n",
       "         -2.59127410e-03, -2.49829888e-03, -3.64095182e-03],\n",
       "        ...,\n",
       "        [ 1.33137255e+00,  6.63133474e-03, -7.48694616e-01, ...,\n",
       "          2.66236416e-03, -4.22645296e-03, -3.07049963e-03],\n",
       "        [ 9.25000000e-01, -5.65544381e-02,  1.11353706e-01, ...,\n",
       "         -4.11862221e-03, -1.80176506e-05, -5.04771242e-03],\n",
       "        [ 9.67156863e-01,  1.00635882e-01, -1.95375997e-02, ...,\n",
       "          6.51357987e-03,  1.32071349e-03, -2.38025151e-03]])}"
      ]
     },
     "execution_count": 2,
     "metadata": {},
     "output_type": "execute_result"
    }
   ],
   "source": [
    "m"
   ]
  },
  {
   "cell_type": "code",
   "execution_count": 3,
   "metadata": {},
   "outputs": [
    {
     "data": {
      "text/plain": [
       "{'__header__': b'MATLAB 5.0 MAT-file, Platform: PCWIN, Created on: Sat Oct 18 22:03:58 2003',\n",
       " '__version__': '1.0',\n",
       " '__globals__': [],\n",
       " 'W0': array([[1.        , 0.73791018, 0.76135559, 0.64179768, 0.64946151,\n",
       "         0.66030646, 0.60626607, 0.61366961, 0.59298899, 0.55778295,\n",
       "         0.48104287, 0.52878429, 0.5583755 , 0.57705907, 0.53977168,\n",
       "         0.47171005, 0.50626169, 0.52578986, 0.50548403, 0.45450232,\n",
       "         0.40564293, 0.30566314, 0.3846086 , 0.42562593, 0.47452815,\n",
       "         0.47820872, 0.45088347, 0.3972115 , 0.32896594, 0.36716724,\n",
       "         0.40700172, 0.43435954, 0.40806274, 0.35056241, 0.28668174,\n",
       "         0.20878759, 0.18905852, 0.27064177, 0.32144924, 0.37382848,\n",
       "         0.36995708, 0.34257056, 0.29184742, 0.27972895, 0.31457187,\n",
       "         0.3109276 , 0.27565787, 0.23792969, 0.18019419, 0.15637445,\n",
       "         0.20536514, 0.23157261, 0.25215183, 0.23774514, 0.20605955,\n",
       "         0.19289467, 0.17520282, 0.13508349, 0.10929013, 0.13976621,\n",
       "         0.1528253 , 0.11693902, 0.09438653, 0.07938636]]),\n",
       " 'mu0_FG': array([[1, 0, 0, 0, 0, 0, 0, 0, 0, 0, 0, 0, 0, 0, 0, 0, 0, 0, 0, 0, 0, 0,\n",
       "         0, 0, 0, 0, 0, 0, 0, 0, 0, 0, 0, 0, 0, 0, 0, 0, 0, 0, 0, 0, 0, 0,\n",
       "         0, 0, 0, 0, 0, 0, 0, 0, 0, 0, 0, 0, 0, 0, 0, 0, 0, 0, 0, 0]],\n",
       "       dtype=uint8),\n",
       " 'mu0_BG': array([[3, 0, 0, 0, 0, 0, 0, 0, 0, 0, 0, 0, 0, 0, 0, 0, 0, 0, 0, 0, 0, 0,\n",
       "         0, 0, 0, 0, 0, 0, 0, 0, 0, 0, 0, 0, 0, 0, 0, 0, 0, 0, 0, 0, 0, 0,\n",
       "         0, 0, 0, 0, 0, 0, 0, 0, 0, 0, 0, 0, 0, 0, 0, 0, 0, 0, 0, 0]],\n",
       "       dtype=uint8)}"
      ]
     },
     "execution_count": 3,
     "metadata": {},
     "output_type": "execute_result"
    }
   ],
   "source": [
    "p1"
   ]
  },
  {
   "cell_type": "code",
   "execution_count": 4,
   "metadata": {},
   "outputs": [
    {
     "data": {
      "text/plain": [
       "{'__header__': b'MATLAB 5.0 MAT-file, Platform: PCWIN, Created on: Sun Oct 19 09:59:43 2003',\n",
       " '__version__': '1.0',\n",
       " '__globals__': [],\n",
       " 'W0': array([[1.        , 0.73791018, 0.76135559, 0.64179768, 0.64946151,\n",
       "         0.66030646, 0.60626607, 0.61366961, 0.59298899, 0.55778295,\n",
       "         0.48104287, 0.52878429, 0.5583755 , 0.57705907, 0.53977168,\n",
       "         0.47171005, 0.50626169, 0.52578986, 0.50548403, 0.45450232,\n",
       "         0.40564293, 0.30566314, 0.3846086 , 0.42562593, 0.47452815,\n",
       "         0.47820872, 0.45088347, 0.3972115 , 0.32896594, 0.36716724,\n",
       "         0.40700172, 0.43435954, 0.40806274, 0.35056241, 0.28668174,\n",
       "         0.20878759, 0.18905852, 0.27064177, 0.32144924, 0.37382848,\n",
       "         0.36995708, 0.34257056, 0.29184742, 0.27972895, 0.31457187,\n",
       "         0.3109276 , 0.27565787, 0.23792969, 0.18019419, 0.15637445,\n",
       "         0.20536514, 0.23157261, 0.25215183, 0.23774514, 0.20605955,\n",
       "         0.19289467, 0.17520282, 0.13508349, 0.10929013, 0.13976621,\n",
       "         0.1528253 , 0.11693902, 0.09438653, 0.07938636]]),\n",
       " 'mu0_FG': array([[2, 0, 0, 0, 0, 0, 0, 0, 0, 0, 0, 0, 0, 0, 0, 0, 0, 0, 0, 0, 0, 0,\n",
       "         0, 0, 0, 0, 0, 0, 0, 0, 0, 0, 0, 0, 0, 0, 0, 0, 0, 0, 0, 0, 0, 0,\n",
       "         0, 0, 0, 0, 0, 0, 0, 0, 0, 0, 0, 0, 0, 0, 0, 0, 0, 0, 0, 0]],\n",
       "       dtype=uint8),\n",
       " 'mu0_BG': array([[2, 0, 0, 0, 0, 0, 0, 0, 0, 0, 0, 0, 0, 0, 0, 0, 0, 0, 0, 0, 0, 0,\n",
       "         0, 0, 0, 0, 0, 0, 0, 0, 0, 0, 0, 0, 0, 0, 0, 0, 0, 0, 0, 0, 0, 0,\n",
       "         0, 0, 0, 0, 0, 0, 0, 0, 0, 0, 0, 0, 0, 0, 0, 0, 0, 0, 0, 0]],\n",
       "       dtype=uint8)}"
      ]
     },
     "execution_count": 4,
     "metadata": {},
     "output_type": "execute_result"
    }
   ],
   "source": [
    "p2"
   ]
  },
  {
   "cell_type": "code",
   "execution_count": 5,
   "metadata": {},
   "outputs": [
    {
     "data": {
      "text/plain": [
       "{'__header__': b'MATLAB 5.0 MAT-file, Platform: PCWIN, Created on: Thu Oct 16 17:21:13 2003',\n",
       " '__version__': '1.0',\n",
       " '__globals__': [],\n",
       " 'alpha': array([[1.e-04, 1.e-03, 1.e-02, 1.e-01, 1.e+00, 1.e+01, 1.e+02, 1.e+03,\n",
       "         1.e+04]])}"
      ]
     },
     "execution_count": 5,
     "metadata": {},
     "output_type": "execute_result"
    }
   ],
   "source": [
    "alpha"
   ]
  },
  {
   "cell_type": "code",
   "execution_count": 6,
   "metadata": {},
   "outputs": [],
   "source": [
    "BG1,BG2,BG3,BG4 = m['D1_BG'],m['D2_BG'],m['D3_BG'],m['D4_BG']\n",
    "FG1,FG2,FG3,FG4 = m['D1_FG'],m['D2_FG'],m['D3_FG'],m['D4_FG']\n",
    "w0_1,mu0_FG_1,mu0_BG_1 = p1['W0'],p1['mu0_FG'].T,p1['mu0_BG'].T\n",
    "# w0_1,mu0_FG_1,mu0_BG_1 = p2['W0'],p2['mu0_FG'].T,p2['mu0_BG'].T\n",
    "w0_2,mu0_FG_2,mu0_FG_2 = p2['W0'],p2['mu0_FG'].T,p2['mu0_BG'].T\n",
    "a = alpha['alpha']"
   ]
  },
  {
   "cell_type": "code",
   "execution_count": 7,
   "metadata": {},
   "outputs": [
    {
     "data": {
      "text/plain": [
       "(300, 64)"
      ]
     },
     "execution_count": 7,
     "metadata": {},
     "output_type": "execute_result"
    }
   ],
   "source": [
    "BG1.shape"
   ]
  },
  {
   "cell_type": "markdown",
   "metadata": {},
   "source": [
    "### a)"
   ]
  },
  {
   "cell_type": "markdown",
   "metadata": {},
   "source": [
    "We assume the covariance matrix is known, which is $\\Sigma=\\frac{1}{N}\\sum_{i=1}^{N}(X_i-\\frac{1}{N}\\sum_{i=1}^{N}X_i)(X_i-\\frac{1}{N}\\sum_{i=1}^{N}X_i)^T$.\n",
    "<br/>\n",
    "<br/>In numpy the default coefficient in front of the sample varience is $\\frac{1}{N-1}$ so for this problem $\\Sigma = \\frac{N-1}{N}\\Sigma_{numpy}.$"
   ]
  },
  {
   "cell_type": "code",
   "execution_count": 8,
   "metadata": {},
   "outputs": [],
   "source": [
    "cov_FG1 = np.cov(FG1.T)\n",
    "cov_BG1 = np.cov(BG1.T)\n",
    "cov_FG1 = (FG1.shape[0]-1)/FG1.shape[0] * cov_FG1\n",
    "cov_BG1 = (BG1.shape[0]-1)/BG1.shape[0] * cov_BG1"
   ]
  },
  {
   "cell_type": "markdown",
   "metadata": {},
   "source": [
    "Here we will use strategy 1: $\\mu_0$ is given, $\\Sigma_{0ii}=\\alpha w_i$"
   ]
  },
  {
   "cell_type": "code",
   "execution_count": 9,
   "metadata": {},
   "outputs": [],
   "source": [
    "temp = a.T.dot(w0_1)\n",
    "cov0 = np.zeros((9,4096))\n",
    "cov0[:,[i for i in range(0,4097,65)]] += temp\n",
    "cov0_1 = cov0.reshape(9,64,64)\n",
    "# print(cov0_1[0])"
   ]
  },
  {
   "cell_type": "code",
   "execution_count": 10,
   "metadata": {},
   "outputs": [
    {
     "name": "stdout",
     "output_type": "stream",
     "text": [
      "[[10000.             0.             0.         ...     0.\n",
      "      0.             0.        ]\n",
      " [    0.          7379.10182447     0.         ...     0.\n",
      "      0.             0.        ]\n",
      " [    0.             0.          7613.5558882  ...     0.\n",
      "      0.             0.        ]\n",
      " ...\n",
      " [    0.             0.             0.         ...  1169.3902465\n",
      "      0.             0.        ]\n",
      " [    0.             0.             0.         ...     0.\n",
      "    943.86526165     0.        ]\n",
      " [    0.             0.             0.         ...     0.\n",
      "      0.           793.86363349]]\n"
     ]
    }
   ],
   "source": [
    "print(cov0_1[8])"
   ]
  },
  {
   "cell_type": "markdown",
   "metadata": {},
   "source": [
    "Here we want to compute the posterior $P_{\\mu|T}(\\mu|D_1)$ given that the prior is $P_{\\mu}(\\mu)=G(\\mu,\\mu_0,\\Sigma_0)$ and $P_{X|\\mu,\\Sigma}=G(x,\\mu,\\Sigma)$.\n",
    "<br/>\n",
    "<br/>By Bayes Rule $P_{\\mu|T}(\\mu|D_1)\\propto P_{\\mu}(\\mu)*\\prod_{i=1}^{N}{P_{X|\\mu}(x_i|\\mu)}$. Here we define $C$ as constant,everything not related to $\\mu$ will be viewed as constant.\n",
    "<br/>\n",
    "<br/>So $\\log{P_{\\mu|T}(\\mu|D_1)} = -\\frac{N}{2}\\mu^T\\Sigma^{-1}\\mu-\\frac{1}{2}\\mu^T\\Sigma_0^{-1}\\mu+\\mu_0^T\\Sigma_0^{-1}\\mu+\\sum_{i=1}{N}{\\mu^T\\Sigma^{-1}x_i}+C=\\frac{1}{2}\\mu^T(N\\Sigma^{-1}+\\Sigma_0^{-1})\\mu+\\mu^T(\\Sigma_0^{-1}\\mu_0+\\Sigma^{-1}\\sum_{i=0}{N}{x_i})+C$.\n",
    "<br/>\n",
    "<br/> One of the mathematical properties of Gaussian is that the product of Gaussian PDF is still a Gaussain PDF. So $P_{\\mu|T}(\\mu|D_1)$ must still be a Gaussian.\n",
    "<br/>\n",
    "<br/>So $\\log{P_{\\mu|T}(\\mu|D_1)} = \\frac{1}{2}(\\mu-A)^T(N\\Sigma^{-1}+\\Sigma_0^{-1})(\\mu-A)$ where $A=(N\\Sigma^{-1}+\\Sigma_0^{-1})^{-1}(\\Sigma_0^{-1}\\mu_0+\\Sigma^{-1}\\sum_{i=1}^{N}{x_i})$\n",
    "<br/>\n",
    "<br/>Given that $P_{\\mu|T}(\\mu|D_1)=G(\\mu,\\mu_1,\\Sigma_1)$,we have:\n",
    "<br/>\n",
    "<br/>$\\mu_1=A=(N\\Sigma^{-1}+\\Sigma_0^{-1})^{-1}(\\Sigma_0^{-1}\\mu_0+\\Sigma^{-1}\\sum_{i=1}^{N}{x_i})$;$\\quad$$\\Sigma_1=(N\\Sigma^{-1}+\\Sigma_0^{-1})^{-1}$."
   ]
  },
  {
   "cell_type": "code",
   "execution_count": 11,
   "metadata": {},
   "outputs": [],
   "source": [
    "from numpy.linalg import inv\n",
    "mu1_FG1_1,mu1_BG1_1 = np.zeros(shape = (9,64,1),dtype = 'float'),np.zeros(shape = (9,64,1),dtype = 'float')\n",
    "# cov1_FG1_1,cov1_BG1_1 = np.zeros(shape = (9,64,64),dtype = 'float'),np.zeros(shape = (9,64,64),dtype = 'float')"
   ]
  },
  {
   "cell_type": "code",
   "execution_count": 12,
   "metadata": {},
   "outputs": [],
   "source": [
    "from numpy.linalg import inv\n",
    "cov1_FG1_1 = inv(FG1.shape[0] * inv(cov_FG1) + inv(cov0_1))\n",
    "cov1_BG1_1 = inv(BG1.shape[0] * inv(cov_BG1) + inv(cov0_1))"
   ]
  },
  {
   "cell_type": "code",
   "execution_count": 13,
   "metadata": {},
   "outputs": [],
   "source": [
    "# temp0 = inv(cov0_1).dot(mu0_FG_1) + inv(cov_FG1).dot(np.sum(FG1,axis = 0)[:,np.newaxis])\n",
    "# temp1 = inv(cov0_1).dot(mu0_BG_1) + inv(cov_BG1).dot(np.sum(BG1,axis = 0)[:,np.newaxis])\n",
    "# print(temp0.shape)\n",
    "for i in range(cov1_FG1_1.shape[0]):\n",
    "    temp0 = inv(cov0_1[i]).dot(mu0_FG_1) + inv(cov_FG1).dot((np.sum(FG1,axis = 0))[:,np.newaxis])\n",
    "    temp1 = inv(cov0_1[i]).dot(mu0_BG_1) + inv(cov_BG1).dot((np.sum(BG1,axis = 0))[:,np.newaxis])\n",
    "    mu1_FG1_1[i] += cov1_FG1_1[i].dot(temp0)\n",
    "    mu1_BG1_1[i] += cov1_BG1_1[i].dot(temp1)"
   ]
  },
  {
   "cell_type": "code",
   "execution_count": 18,
   "metadata": {},
   "outputs": [
    {
     "data": {
      "text/plain": [
       "array([ 1.01416672e+00, -3.84730691e-04,  5.87983012e-04,  2.35147605e-03,\n",
       "       -1.16754201e-02,  1.75134707e-04,  1.62568356e-03,  7.41804020e-03,\n",
       "        2.46612055e-03, -3.03182472e-03, -3.34609346e-03,  1.26893019e-03,\n",
       "        2.15876084e-03, -8.28935813e-03, -4.48202869e-03,  5.70295997e-04,\n",
       "        7.32695404e-03, -7.63403266e-03,  4.70528842e-03,  3.64487872e-03,\n",
       "        6.15585793e-04, -4.58913063e-04,  1.69152711e-03,  1.66482661e-03,\n",
       "       -4.52765151e-03,  1.97859330e-04,  5.28928128e-03, -4.04990131e-03,\n",
       "       -1.15337808e-03,  6.27187474e-04, -6.68775986e-03,  4.01719613e-03,\n",
       "        4.20520075e-03, -1.84172024e-03,  3.22952067e-03, -2.39583523e-03,\n",
       "        1.06029453e-03,  1.43892801e-03,  9.50342973e-04, -5.43460916e-04,\n",
       "        1.74483805e-03,  1.58542152e-03, -2.04976558e-03,  1.32029912e-03,\n",
       "       -4.64927515e-03,  1.44753108e-03, -1.01817568e-03,  3.19331675e-04,\n",
       "        1.27788591e-03, -9.33329274e-04,  9.66426587e-04,  1.13145433e-03,\n",
       "       -2.04791884e-06,  1.23454000e-03, -4.44094646e-05,  7.21315246e-04,\n",
       "        9.51498426e-04, -1.11104080e-03,  4.31510731e-04,  4.01535070e-04,\n",
       "       -1.31602600e-03, -5.73898553e-04, -3.58911834e-04, -1.20680822e-04])"
      ]
     },
     "execution_count": 18,
     "metadata": {},
     "output_type": "execute_result"
    }
   ],
   "source": [
    "mu1_FG1_1[0].flatten()"
   ]
  },
  {
   "cell_type": "code",
   "execution_count": 17,
   "metadata": {},
   "outputs": [
    {
     "data": {
      "text/plain": [
       "(9, 64, 1)"
      ]
     },
     "execution_count": 17,
     "metadata": {},
     "output_type": "execute_result"
    }
   ],
   "source": [
    "inv(cov0_1).dot(mu0_FG_1).shape"
   ]
  },
  {
   "cell_type": "markdown",
   "metadata": {},
   "source": [
    "Next step is to compute the predictive distribution using the posterior distribution of $\\mu$.\n",
    "<br/>\n",
    "<br/>$P_{X|T}(x|D_1)=\\int_{\\mu}P_{X|\\mu,\\Sigma}(x|\\mu,\\Sigma)*P_{\\mu|T}(\\mu|D_1)d\\mu=\\int_{\\mu}G(x,\\mu,\\Sigma)*G(\\mu,\\mu_1,\\Sigma_1)d\\mu=G(x,\\mu_1,\\Sigma_1+\\Sigma)$"
   ]
  },
  {
   "cell_type": "code",
   "execution_count": 18,
   "metadata": {},
   "outputs": [],
   "source": [
    "mu_pred_FG1,mu_pred_BG1 = mu1_FG1_1,mu1_BG1_1\n",
    "cov_pred_FG1 = cov1_FG1_1 + cov_FG1\n",
    "cov_pred_BG1 = cov1_BG1_1 + cov_BG1"
   ]
  },
  {
   "cell_type": "markdown",
   "metadata": {},
   "source": [
    "Maximum Likelihood for the class priors:\n",
    "<br/>\n",
    "<br/>$P_Y(i=1)=\\frac{\\sum_{t=1}^{N}I(1,Y_t)}{N}\\quad P_Y(i=0)=\\frac{\\sum_{t=1}^{N}I(0,Y_t)}{N}$"
   ]
  },
  {
   "cell_type": "code",
   "execution_count": 19,
   "metadata": {},
   "outputs": [],
   "source": [
    "prior_cheetah = FG1.shape[0] / (FG1.shape[0] + BG1.shape[0])\n",
    "prior_grass = BG1.shape[0] / (FG1.shape[0] + BG1.shape[0])"
   ]
  },
  {
   "cell_type": "markdown",
   "metadata": {},
   "source": [
    "Bayesian BDR: $i^*(x)=argmax_i(P_{X|T}(x|D_1,i)*P_Y(i))$"
   ]
  },
  {
   "cell_type": "code",
   "execution_count": 20,
   "metadata": {},
   "outputs": [],
   "source": [
    "# define the zigzag transformation\n",
    "zig_zag = np.array([[0,1,5,6,14,15,27,28],[2,4,7,13,16,26,29,42],[3,8,12,17,25,30,41,43],\n",
    "                   [9,11,18,24,31,40,44,53],[10,19,23,32,39,45,52,54],[20,22,33,38,46,51,55,60],\n",
    "                   [21,34,37,47,50,56,59,61],[35,36,48,49,57,58,62,63]])\n",
    "zz_flat = zig_zag.flatten()\n",
    "def zig_zag_transform(a):\n",
    "    result = np.zeros(64)\n",
    "    for i in range(64):\n",
    "        result[zz_flat[i]] = a[i]\n",
    "    return result"
   ]
  },
  {
   "cell_type": "code",
   "execution_count": 21,
   "metadata": {},
   "outputs": [],
   "source": [
    "# 2D DCT function\n",
    "import scipy.fftpack\n",
    "def dct2d(a):\n",
    "    return scipy.fftpack.dct(scipy.fftpack.dct( a, axis=0, norm='ortho' ),axis=1,norm='ortho')"
   ]
  },
  {
   "cell_type": "code",
   "execution_count": 22,
   "metadata": {},
   "outputs": [],
   "source": [
    "import imageio\n",
    "im = imageio.imread('../homework1/cheetah.bmp')\n",
    "im_array = np.array(im)"
   ]
  },
  {
   "cell_type": "code",
   "execution_count": 23,
   "metadata": {},
   "outputs": [],
   "source": [
    "from numpy.linalg import det\n",
    "A_list = []\n",
    "for k in range(cov_pred_FG1.shape[0]):\n",
    "    A = []\n",
    "    cov_pred_FG1_inv = inv(cov_pred_FG1[k])\n",
    "    cov_pred_BG1_inv = inv(cov_pred_BG1[k])\n",
    "    cov_pred_FG1_det = det(cov_pred_FG1[k])\n",
    "    cov_pred_BG1_det = det(cov_pred_BG1[k])\n",
    "    for i in range(0,len(im_array)-8):\n",
    "        for j in range(0,im_array.shape[1]-8):\n",
    "            FG,BG = 0,0\n",
    "            row_start,row_end = i,i+8\n",
    "            col_start,col_end = j,j+8\n",
    "            block = im_array[row_start:row_end,col_start:col_end]\n",
    "            block_dct = dct2d(block).flatten()\n",
    "            block_dct = zig_zag_transform(block_dct)\n",
    "            # foreground\n",
    "            temp1 = block_dct[:,np.newaxis] - mu1_FG1_1[k]\n",
    "            temp2 = (temp1.T.dot(cov_pred_FG1_inv)).dot(temp1)\n",
    "            temp3 = np.log((2*np.pi)**64 * cov_pred_FG1_det) - 2 * np.log(prior_cheetah)\n",
    "            FG = temp2 + temp3\n",
    "            #background\n",
    "            temp1 = block_dct[:,np.newaxis] - mu1_BG1_1[k]\n",
    "            temp2 = (temp1.T.dot(cov_pred_BG1_inv)).dot(temp1)\n",
    "            temp3 = np.log((2*np.pi)**64 * cov_pred_BG1_det) - 2 * np.log(prior_grass)\n",
    "            BG = temp2 + temp3\n",
    "            if FG >= BG:\n",
    "                A.append(0)\n",
    "            else:\n",
    "                A.append(1)\n",
    "    A_matrix = np.reshape(A,(247,262))\n",
    "    A_matrix_padding = np.lib.pad(A_matrix,(4,4),'constant',constant_values = 0)\n",
    "    A_list.append(A_matrix_padding)"
   ]
  },
  {
   "cell_type": "code",
   "execution_count": 24,
   "metadata": {},
   "outputs": [],
   "source": [
    "A_list = np.array(A_list)"
   ]
  },
  {
   "cell_type": "code",
   "execution_count": 25,
   "metadata": {},
   "outputs": [
    {
     "data": {
      "text/plain": [
       "<Figure size 2400x1200 with 9 Axes>"
      ]
     },
     "metadata": {},
     "output_type": "display_data"
    }
   ],
   "source": [
    "import matplotlib.pyplot as plt\n",
    "fig=plt.figure(figsize=(24,12))\n",
    "for i in range(A_list.shape[0]):\n",
    "    fig.add_subplot(3,3,i+1)\n",
    "    plt.imshow(A_list[7],cmap='gray')\n",
    "    plt.title(\"training result using alpha%d\"%i)\n",
    "plt.show()"
   ]
  },
  {
   "cell_type": "code",
   "execution_count": 26,
   "metadata": {},
   "outputs": [],
   "source": [
    "# store the test data as a numpy array\n",
    "im_test = imageio.imread('../homework1/cheetah_mask.bmp')\n",
    "im_test_array = np.array(im_test)\n",
    "# convert 255 to 1 for error calculation\n",
    "im_test_array = im_test_array / 255\n",
    "error_list = []\n",
    "for i in range(A_list.shape[0]):\n",
    "    e = np.absolute(im_test_array.flatten() - A_list[i].flatten())\n",
    "    prob_error = np.sum(e) / (255*270)\n",
    "    error_list.append(prob_error)"
   ]
  },
  {
   "cell_type": "code",
   "execution_count": 27,
   "metadata": {},
   "outputs": [],
   "source": [
    "error_list = np.array(error_list)"
   ]
  },
  {
   "cell_type": "code",
   "execution_count": 28,
   "metadata": {},
   "outputs": [
    {
     "data": {
      "text/plain": [
       "array([0.15077705, 0.15066086, 0.15055919, 0.15050109, 0.15050109,\n",
       "       0.15050109, 0.15050109, 0.15050109, 0.15050109])"
      ]
     },
     "execution_count": 28,
     "metadata": {},
     "output_type": "execute_result"
    }
   ],
   "source": [
    "error_list"
   ]
  },
  {
   "cell_type": "code",
   "execution_count": 29,
   "metadata": {},
   "outputs": [
    {
     "data": {
      "text/plain": [
       "array([[1.e-04, 1.e-03, 1.e-02, 1.e-01, 1.e+00, 1.e+01, 1.e+02, 1.e+03,\n",
       "        1.e+04]])"
      ]
     },
     "execution_count": 29,
     "metadata": {},
     "output_type": "execute_result"
    }
   ],
   "source": [
    "a"
   ]
  },
  {
   "cell_type": "code",
   "execution_count": 30,
   "metadata": {},
   "outputs": [
    {
     "data": {
      "text/plain": [
       "[<matplotlib.lines.Line2D at 0x7fa0c935db70>]"
      ]
     },
     "execution_count": 30,
     "metadata": {},
     "output_type": "execute_result"
    },
    {
     "data": {
      "image/png": "[encoded data removed]",
      "text/plain": [
       "<Figure size 432x288 with 1 Axes>"
      ]
     },
     "metadata": {
      "needs_background": "light"
     },
     "output_type": "display_data"
    }
   ],
   "source": [
    "plt.plot(np.log(a.flatten()),error_list)"
   ]
  },
  {
   "cell_type": "markdown",
   "metadata": {},
   "source": [
    "### b)"
   ]
  },
  {
   "cell_type": "code",
   "execution_count": 31,
   "metadata": {},
   "outputs": [],
   "source": [
    "mu_FG1_ML = np.mean(FG1,axis = 0)\n",
    "mu_BG1_ML = np.mean(BG1,axis = 0)\n",
    "cov_FG1_ML = np.cov(FG1.T)\n",
    "cov_BG1_ML = np.cov(BG1.T)"
   ]
  },
  {
   "cell_type": "code",
   "execution_count": 32,
   "metadata": {},
   "outputs": [
    {
     "name": "stdout",
     "output_type": "stream",
     "text": [
      "(64714,)\n"
     ]
    }
   ],
   "source": [
    "from numpy.linalg import inv,det\n",
    "A_ML = []\n",
    "cov_FG1_inv = inv(cov_FG1_ML)\n",
    "cov_BG1_inv = inv(cov_BG1_ML)\n",
    "cov_FG1_det = det(cov_FG1_ML)\n",
    "cov_BG1_det = det(cov_BG1_ML)\n",
    "for i in range(0,len(im_array)-8):\n",
    "    for j in range(0,im_array.shape[1]-8):\n",
    "        FG,BG = 0,0\n",
    "        row_start,row_end = i,i+8\n",
    "        col_start,col_end = j,j+8\n",
    "        block = im_array[row_start:row_end,col_start:col_end]\n",
    "        block_dct = dct2d(block).flatten()\n",
    "        block_dct = zig_zag_transform(block_dct)\n",
    "        # foreground\n",
    "        temp = block_dct - mu_FG1_ML\n",
    "        temp1 = temp[:,np.newaxis]\n",
    "        temp2 = (temp1.T.dot(cov_FG1_inv)).dot(temp1)\n",
    "        temp3 = np.log((2*np.pi)**64 * cov_FG1_det) - 2 * np.log(prior_cheetah)\n",
    "        FG = temp2 + temp3\n",
    "        #background\n",
    "        temp = block_dct - mu_BG1_ML\n",
    "        temp1 = temp[:,np.newaxis]\n",
    "        temp2 = (temp1.T.dot(cov_BG1_inv)).dot(temp1)\n",
    "        temp3 = np.log((2*np.pi)**64 * cov_BG1_det) - 2 * np.log(prior_grass)\n",
    "        BG = temp2 + temp3\n",
    "        if FG >= BG:\n",
    "            A_ML.append(0)\n",
    "        else:\n",
    "            A_ML.append(1)\n",
    "A_ML = np.array(A_ML)\n",
    "print(A_ML.shape)"
   ]
  },
  {
   "cell_type": "code",
   "execution_count": 33,
   "metadata": {},
   "outputs": [],
   "source": [
    "A_ML_matrix = np.reshape(A_ML,(247,262))\n",
    "A_ML_matrix_padding = np.lib.pad(A_ML_matrix,(4,4),'constant',constant_values = 0)"
   ]
  },
  {
   "cell_type": "code",
   "execution_count": 34,
   "metadata": {},
   "outputs": [
    {
     "data": {
      "image/png": "[encoded data removed]",
      "text/plain": [
       "<Figure size 432x288 with 1 Axes>"
      ]
     },
     "metadata": {
      "needs_background": "light"
     },
     "output_type": "display_data"
    }
   ],
   "source": [
    "plt.imshow(A_ML_matrix_padding,cmap='gray')\n",
    "plt.title(\"training result\")\n",
    "plt.show()"
   ]
  },
  {
   "cell_type": "code",
   "execution_count": 35,
   "metadata": {},
   "outputs": [
    {
     "name": "stdout",
     "output_type": "stream",
     "text": [
      "0.15051561365286856\n"
     ]
    }
   ],
   "source": [
    "e = np.absolute(im_test_array.flatten() - A_ML_matrix_padding.flatten())\n",
    "prob_error = np.sum(e) / (255 * 270)\n",
    "print(prob_error)"
   ]
  },
  {
   "cell_type": "code",
   "execution_count": null,
   "metadata": {},
   "outputs": [],
   "source": []
  }
 ],
 "metadata": {
  "kernelspec": {
   "display_name": "Python 3",
   "language": "python",
   "name": "python3"
  },
  "language_info": {
   "codemirror_mode": {
    "name": "ipython",
    "version": 3
   },
   "file_extension": ".py",
   "mimetype": "text/x-python",
   "name": "python",
   "nbconvert_exporter": "python",
   "pygments_lexer": "ipython3",
   "version": "3.7.3"
  }
 },
 "nbformat": 4,
 "nbformat_minor": 2
}
