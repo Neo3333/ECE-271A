{
 "cells": [
  {
   "cell_type": "markdown",
   "metadata": {},
   "source": [
    "# ECE 271A HW \\#3 The Cheetah Problem (Continued)"
   ]
  },
  {
   "cell_type": "code",
   "execution_count": 1,
   "metadata": {},
   "outputs": [],
   "source": [
    "import numpy as np\n",
    "from scipy.io import loadmat\n",
    "m = loadmat('hw3Data/TrainingSamplesDCT_subsets_8.mat')\n",
    "p1 = loadmat('hw3Data/Prior_1.mat')\n",
    "p2 = loadmat('hw3Data/Prior_2.mat')\n",
    "alpha = loadmat('hw3Data/Alpha.mat')"
   ]
  },
  {
   "cell_type": "code",
   "execution_count": 2,
   "metadata": {},
   "outputs": [],
   "source": [
    "BG1,BG2,BG3,BG4 = m['D1_BG'],m['D2_BG'],m['D3_BG'],m['D4_BG']\n",
    "FG1,FG2,FG3,FG4 = m['D1_FG'],m['D2_FG'],m['D3_FG'],m['D4_FG']\n",
    "w0_1,mu0_FG_1,mu0_BG_1 = p1['W0'],p1['mu0_FG'].T,p1['mu0_BG'].T\n",
    "w0_2,mu0_FG_2,mu0_FG_2 = p2['W0'],p2['mu0_FG'].T,p2['mu0_BG'].T\n",
    "a = alpha['alpha']"
   ]
  },
  {
   "cell_type": "markdown",
   "metadata": {},
   "source": [
    "### a)"
   ]
  },
  {
   "cell_type": "markdown",
   "metadata": {},
   "source": [
    "We assume the covariance matrix is known, which is $\\Sigma=\\frac{1}{N}\\sum_{i=1}^{N}(X_i-\\frac{1}{N}\\sum_{i=1}^{N}X_i)(X_i-\\frac{1}{N}\\sum_{i=1}^{N}X_i)^T$.\n",
    "<br/>\n",
    "<br/>In numpy the default coefficient in front of the sample varience is $\\frac{1}{N-1}$ so for this problem $\\Sigma = \\frac{N-1}{N}\\Sigma_{numpy}.$"
   ]
  },
  {
   "cell_type": "code",
   "execution_count": 3,
   "metadata": {},
   "outputs": [],
   "source": [
    "cov_FG1 = np.cov(FG1.T)\n",
    "cov_BG1 = np.cov(BG1.T)\n",
    "cov_FG1 = (FG1.shape[0]-1)/FG1.shape[0] * cov_FG1\n",
    "cov_BG1 = (BG1.shape[0]-1)/BG1.shape[0] * cov_BG1\n",
    "mu_FG1 = np.mean(FG1,axis = 0)[:,np.newaxis]\n",
    "mu_BG1 = np.mean(BG1,axis = 0)[:,np.newaxis]"
   ]
  },
  {
   "cell_type": "markdown",
   "metadata": {},
   "source": [
    "Here we will use strategy 1: $\\mu_0$ is given, $\\Sigma_{0ii}=\\alpha w_i$"
   ]
  },
  {
   "cell_type": "code",
   "execution_count": 4,
   "metadata": {},
   "outputs": [],
   "source": [
    "temp = a.T.dot(w0_1)\n",
    "cov0 = np.zeros((9,4096))\n",
    "cov0[:,[i for i in range(0,4097,65)]] += temp\n",
    "cov0_1 = cov0.reshape(9,64,64)"
   ]
  },
  {
   "cell_type": "markdown",
   "metadata": {},
   "source": [
    "Here we want to compute the posterior $P_{\\mu|T}(\\mu|D_1)$ given that the prior is $P_{\\mu}(\\mu)=G(\\mu,\\mu_0,\\Sigma_0)$ and $P_{X|\\mu,\\Sigma}=G(x,\\mu,\\Sigma)$.\n",
    "<br/>\n",
    "<br/>By Bayes Rule $P_{\\mu|T}(\\mu|D_1)\\propto P_{\\mu}(\\mu)*\\prod_{i=1}^{N}{P_{X|\\mu}(x_i|\\mu)}$. Here we define $C$ as constant,everything not related to $\\mu$ will be viewed as constant.\n",
    "<br/>\n",
    "<br/>So $\\log{P_{\\mu|T}(\\mu|D_1)} = -\\frac{N}{2}\\mu^T\\Sigma^{-1}\\mu-\\frac{1}{2}\\mu^T\\Sigma_0^{-1}\\mu+\\mu_0^T\\Sigma_0^{-1}\\mu+\\sum_{i=1}{N}{\\mu^T\\Sigma^{-1}x_i}+C=\\frac{1}{2}\\mu^T(N\\Sigma^{-1}+\\Sigma_0^{-1})\\mu+\\mu^T(\\Sigma_0^{-1}\\mu_0+\\Sigma^{-1}\\sum_{i=0}{N}{x_i})+C$.\n",
    "<br/>\n",
    "<br/> One of the mathematical properties of Gaussian is that the product of Gaussian PDF is still a Gaussain PDF. So $P_{\\mu|T}(\\mu|D_1)$ must still be a Gaussian.\n",
    "<br/>\n",
    "<br/>So $\\log{P_{\\mu|T}(\\mu|D_1)} = \\frac{1}{2}(\\mu-A)^T(N\\Sigma^{-1}+\\Sigma_0^{-1})(\\mu-A)$ where $A=(N\\Sigma^{-1}+\\Sigma_0^{-1})^{-1}(\\Sigma_0^{-1}\\mu_0+\\Sigma^{-1}\\sum_{i=1}^{N}{x_i})$\n",
    "<br/>\n",
    "<br/>Given that $P_{\\mu|T}(\\mu|D_1)=G(\\mu,\\mu_1,\\Sigma_1)$,we have:\n",
    "<br/>\n",
    "<br/>$\\mu_1=A=(N\\Sigma^{-1}+\\Sigma_0^{-1})^{-1}(\\Sigma_0^{-1}\\mu_0+\\Sigma^{-1}\\sum_{i=1}^{N}{x_i})$;$\\quad$$\\Sigma_1=(N\\Sigma^{-1}+\\Sigma_0^{-1})^{-1}$.\n",
    "<br/>\n",
    "<br/>By further calculation, we can deduce that:\n",
    "<br/>\n",
    "<br/>$\\mu_1=\\Sigma_0(\\Sigma_0+\\frac{1}{N}\\Sigma)^{-1}(\\frac{1}{N}\\sum_{i=1}^{N}x_i)+\\frac{1}{N}\\Sigma(\\Sigma_0+\\frac{1}{N}\\Sigma)^{-1}\\mu_0;\\quad\\Sigma_1=\\Sigma_0(\\Sigma_0+\\frac{1}{N}\\Sigma)^{-1}\\frac{1}{N}\\Sigma$"
   ]
  },
  {
   "cell_type": "code",
   "execution_count": 5,
   "metadata": {},
   "outputs": [],
   "source": [
    "from numpy.linalg import inv\n",
    "mu1_FG1_1,mu1_BG1_1 = np.zeros(shape = (9,64,1),dtype = 'float'),np.zeros(shape = (9,64,1),dtype = 'float')\n",
    "cov1_FG1_1,cov1_BG1_1 = np.zeros(shape = (9,64,64),dtype = 'float'),np.zeros(shape = (9,64,64),dtype = 'float')"
   ]
  },
  {
   "cell_type": "code",
   "execution_count": 6,
   "metadata": {},
   "outputs": [],
   "source": [
    "# from numpy.linalg import inv\n",
    "# cov1_FG1_1 = inv(FG1.shape[0] * inv(cov_FG1) + inv(cov0_1))\n",
    "# cov1_BG1_1 = inv(BG1.shape[0] * inv(cov_BG1) + inv(cov0_1))"
   ]
  },
  {
   "cell_type": "code",
   "execution_count": 7,
   "metadata": {},
   "outputs": [],
   "source": [
    "# temp0 = inv(cov0_1).dot(mu0_FG_1) + inv(cov_FG1).dot(np.sum(FG1,axis = 0)[:,np.newaxis])\n",
    "# temp1 = inv(cov0_1).dot(mu0_BG_1) + inv(cov_BG1).dot(np.sum(BG1,axis = 0)[:,np.newaxis])\n",
    "# print(temp0.shape)\n",
    "# for i in range(cov1_FG1_1.shape[0]):\n",
    "#     temp0 = inv(cov0_1[i]).dot(mu0_FG_1) + inv(cov_FG1).dot((np.sum(FG1,axis = 0))[:,np.newaxis])\n",
    "#     temp1 = inv(cov0_1[i]).dot(mu0_BG_1) + inv(cov_BG1).dot((np.sum(BG1,axis = 0))[:,np.newaxis])\n",
    "#     mu1_FG1_1[i] += cov1_FG1_1[i].dot(temp0)\n",
    "#     mu1_BG1_1[i] += cov1_BG1_1[i].dot(temp1)"
   ]
  },
  {
   "cell_type": "code",
   "execution_count": 8,
   "metadata": {},
   "outputs": [],
   "source": [
    "from numpy.linalg import inv,det\n",
    "for i in range(a.shape[1]):\n",
    "    cov0_FG1,cov0_BG1 = cov0_1[i],cov0_1[i]\n",
    "    weight1_FG1 = cov0_FG1.dot(inv(cov0_FG1 + cov_FG1/FG1.shape[0]))\n",
    "    weight1_BG1 = cov0_BG1.dot(inv(cov0_BG1 + cov_BG1/BG1.shape[0]))\n",
    "    weight2_FG1 = (cov_FG1/FG1.shape[0]).dot(inv(cov0_FG1 + cov_FG1/FG1.shape[0]))\n",
    "    weight2_BG1 = (cov_BG1/BG1.shape[0]).dot(inv(cov0_BG1 + cov_BG1/BG1.shape[0]))\n",
    "    mu1_FG1 = weight1_FG1.dot(mu_FG1) + weight2_FG1.dot(mu0_FG_1)\n",
    "    mu1_BG1 = weight1_BG1.dot(mu_BG1) + weight2_BG1.dot(mu0_BG_1)\n",
    "    cov1_FG1 = (cov0_FG1.dot(inv(cov0_FG1 + cov_FG1/FG1.shape[0]))).dot(cov_FG1/FG1.shape[0])\n",
    "    cov1_BG1 = (cov0_BG1.dot(inv(cov0_BG1 + cov_BG1/BG1.shape[0]))).dot(cov_BG1/BG1.shape[0])\n",
    "    mu1_FG1_1[i] = mu1_FG1_1[i] + mu1_FG1\n",
    "    mu1_BG1_1[i] = mu1_BG1_1[i] + mu1_BG1\n",
    "    cov1_FG1_1[i] = cov1_FG1_1[i] + cov1_FG1\n",
    "    cov1_BG1_1[i] = cov1_BG1_1[i] + cov1_BG1"
   ]
  },
  {
   "cell_type": "markdown",
   "metadata": {},
   "source": [
    "Next step is to compute the predictive distribution using the posterior distribution of $\\mu$.\n",
    "<br/>\n",
    "<br/>$P_{X|T}(x|D_1)=\\int_{\\mu}P_{X|\\mu,\\Sigma}(x|\\mu,\\Sigma)*P_{\\mu|T}(\\mu|D_1)d\\mu=\\int_{\\mu}G(x,\\mu,\\Sigma)*G(\\mu,\\mu_1,\\Sigma_1)d\\mu=G(x,\\mu_1,\\Sigma_1+\\Sigma)$"
   ]
  },
  {
   "cell_type": "code",
   "execution_count": 14,
   "metadata": {},
   "outputs": [],
   "source": [
    "mu_pred_FG1,mu_pred_BG1 = mu1_FG1_1,mu1_BG1_1\n",
    "cov_pred_FG1,cov_pred_BG1 = np.zeros(shape = (9,64,64),dtype = 'float'),np.zeros(shape = (9,64,64),dtype = 'float')\n",
    "for i in range(9):\n",
    "    cov_pred_FG1[i] += cov1_FG1_1[i] + cov_FG1\n",
    "    cov_pred_BG1[i] += cov1_BG1_1[i] + cov_BG1"
   ]
  },
  {
   "cell_type": "code",
   "execution_count": 15,
   "metadata": {},
   "outputs": [
    {
     "data": {
      "text/plain": [
       "array([[ 1.91865326e-01,  2.25871813e-02, -2.94334131e-02, ...,\n",
       "        -5.74117507e-05, -4.71123990e-05,  1.98392070e-05],\n",
       "       [ 2.25871813e-02,  4.61079369e-02, -1.85392875e-02, ...,\n",
       "         4.16624263e-05,  1.76348469e-04, -1.20352839e-04],\n",
       "       [-2.94334131e-02, -1.85392875e-02,  5.78228699e-02, ...,\n",
       "         2.99166762e-05,  2.33262482e-05,  1.56208996e-04],\n",
       "       ...,\n",
       "       [-5.74117507e-05,  4.16624263e-05,  2.99166762e-05, ...,\n",
       "         1.49631898e-05,  2.81167541e-06, -3.09268309e-06],\n",
       "       [-4.71123990e-05,  1.76348469e-04,  2.33262482e-05, ...,\n",
       "         2.81167541e-06,  1.14531629e-05, -2.12359737e-06],\n",
       "       [ 1.98392070e-05, -1.20352839e-04,  1.56208996e-04, ...,\n",
       "        -3.09268309e-06, -2.12359737e-06,  9.93532409e-06]])"
      ]
     },
     "execution_count": 15,
     "metadata": {},
     "output_type": "execute_result"
    }
   ],
   "source": [
    "cov_pred_FG1[0]"
   ]
  },
  {
   "cell_type": "markdown",
   "metadata": {},
   "source": [
    "Maximum Likelihood for the class priors:\n",
    "<br/>\n",
    "<br/>$P_Y(i=1)=\\frac{\\sum_{t=1}^{N}I(1,Y_t)}{N}\\quad P_Y(i=0)=\\frac{\\sum_{t=1}^{N}I(0,Y_t)}{N}$"
   ]
  },
  {
   "cell_type": "code",
   "execution_count": 10,
   "metadata": {},
   "outputs": [
    {
     "name": "stdout",
     "output_type": "stream",
     "text": [
      "0.2\n"
     ]
    }
   ],
   "source": [
    "prior_cheetah = FG1.shape[0] / (FG1.shape[0] + BG1.shape[0])\n",
    "prior_grass = BG1.shape[0] / (FG1.shape[0] + BG1.shape[0])\n",
    "print(prior_cheetah)"
   ]
  },
  {
   "cell_type": "markdown",
   "metadata": {},
   "source": [
    "Bayesian BDR: $i^*(x)=argmax_i(P_{X|T}(x|D_1,i)*P_Y(i))$"
   ]
  },
  {
   "cell_type": "code",
   "execution_count": 11,
   "metadata": {},
   "outputs": [],
   "source": [
    "# define the zigzag transformation\n",
    "zig_zag = np.array([[0,1,5,6,14,15,27,28],[2,4,7,13,16,26,29,42],[3,8,12,17,25,30,41,43],\n",
    "                   [9,11,18,24,31,40,44,53],[10,19,23,32,39,45,52,54],[20,22,33,38,46,51,55,60],\n",
    "                   [21,34,37,47,50,56,59,61],[35,36,48,49,57,58,62,63]])\n",
    "zz_flat = zig_zag.flatten()\n",
    "def zig_zag_transform(a):\n",
    "    result = np.zeros(64)\n",
    "    for i in range(64):\n",
    "        result[zz_flat[i]] = a[i]\n",
    "    return result"
   ]
  },
  {
   "cell_type": "code",
   "execution_count": 12,
   "metadata": {},
   "outputs": [],
   "source": [
    "# 2D DCT function\n",
    "import scipy.fftpack\n",
    "def dct2d(a):\n",
    "    return scipy.fftpack.dct(scipy.fftpack.dct( a, axis=0, norm='ortho' ),axis=1,norm='ortho')"
   ]
  },
  {
   "cell_type": "code",
   "execution_count": 13,
   "metadata": {},
   "outputs": [
    {
     "name": "stdout",
     "output_type": "stream",
     "text": [
      "[[121 120 111 ... 142 101   0]\n",
      " [120 120 115 ... 137 100   0]\n",
      " [122 121 118 ... 131  99   0]\n",
      " ...\n",
      " [151 158 161 ... 140 105   0]\n",
      " [156 165 172 ... 134 103   0]\n",
      " [173 179 192 ... 129 101   0]]\n"
     ]
    }
   ],
   "source": [
    "import imageio\n",
    "im = imageio.imread('../homework1/cheetah.bmp')\n",
    "im_array = np.array(im)\n",
    "print(im_array)"
   ]
  },
  {
   "cell_type": "code",
   "execution_count": 14,
   "metadata": {},
   "outputs": [
    {
     "name": "stdout",
     "output_type": "stream",
     "text": [
      "(255, 270)\n"
     ]
    }
   ],
   "source": [
    "im = loadmat('im_double.mat')\n",
    "im_array = im['img']\n",
    "print(im_array.shape)"
   ]
  },
  {
   "cell_type": "code",
   "execution_count": 15,
   "metadata": {},
   "outputs": [],
   "source": [
    "from numpy.linalg import det\n",
    "A_list = []\n",
    "for k in range(cov_pred_FG1.shape[0]):\n",
    "    A = []\n",
    "    cov_pred_FG1_inv = inv(cov_pred_FG1[k])\n",
    "    cov_pred_BG1_inv = inv(cov_pred_BG1[k])\n",
    "    cov_pred_FG1_det = det(cov_pred_FG1[k])\n",
    "    cov_pred_BG1_det = det(cov_pred_BG1[k])\n",
    "    for i in range(0,len(im_array)-8):\n",
    "        for j in range(0,im_array.shape[1]-8):\n",
    "            FG,BG = 0,0\n",
    "            row_start,row_end = i,i+8\n",
    "            col_start,col_end = j,j+8\n",
    "            block = im_array[row_start:row_end,col_start:col_end]\n",
    "            block_dct = dct2d(block).flatten()\n",
    "            block_dct = zig_zag_transform(block_dct)\n",
    "            # foreground\n",
    "            temp1 = block_dct[:,np.newaxis] - mu_pred_FG1[k]\n",
    "            temp2 = (temp1.T.dot(cov_pred_FG1_inv)).dot(temp1)\n",
    "            temp3 = np.log((2*np.pi)**64 * cov_pred_FG1_det) - 2 * np.log(prior_cheetah)\n",
    "            FG = temp2 + temp3\n",
    "            #background\n",
    "            temp1 = block_dct[:,np.newaxis] - mu_pred_BG1[k]\n",
    "            temp2 = (temp1.T.dot(cov_pred_BG1_inv)).dot(temp1)\n",
    "            temp3 = np.log((2*np.pi)**64 * cov_pred_BG1_det) - 2 * np.log(prior_grass)\n",
    "            BG = temp2 + temp3\n",
    "            if FG >= BG:\n",
    "                A.append(0)\n",
    "            else:\n",
    "                A.append(1)\n",
    "    A_matrix = np.reshape(A,(247,262))\n",
    "    A_matrix_padding = np.lib.pad(A_matrix,(4,4),'constant',constant_values = 0)\n",
    "    A_list.append(A_matrix_padding)"
   ]
  },
  {
   "cell_type": "code",
   "execution_count": 16,
   "metadata": {},
   "outputs": [],
   "source": [
    "A_list = np.array(A_list)"
   ]
  },
  {
   "cell_type": "code",
   "execution_count": 18,
   "metadata": {},
   "outputs": [
    {
     "data": {
      "image/png": "[encoded data removed]",
      "text/plain": [
       "<Figure size 1728x864 with 9 Axes>"
      ]
     },
     "metadata": {
      "needs_background": "light"
     },
     "output_type": "display_data"
    }
   ],
   "source": [
    "import matplotlib.pyplot as plt\n",
    "fig=plt.figure(figsize=(24,12))\n",
    "for i in range(A_list.shape[0]):\n",
    "    fig.add_subplot(3,3,i+1)\n",
    "    plt.imshow(A_list[7],cmap='gray')\n",
    "    plt.title(\"training result using alpha%d\"%i)\n",
    "plt.show()"
   ]
  },
  {
   "cell_type": "code",
   "execution_count": 19,
   "metadata": {},
   "outputs": [],
   "source": [
    "# store the test data as a numpy array\n",
    "im_test = imageio.imread('../homework1/cheetah_mask.bmp')\n",
    "im_test_array = np.array(im_test)\n",
    "# convert 255 to 1 for error calculation\n",
    "im_test_array = im_test_array / 255\n",
    "error_list_Bayesian = []\n",
    "for i in range(A_list.shape[0]):\n",
    "    e = np.absolute(im_test_array.flatten() - A_list[i].flatten())\n",
    "    prob_error = np.sum(e) / (255*270)\n",
    "    error_list_Bayesian.append(prob_error)"
   ]
  },
  {
   "cell_type": "code",
   "execution_count": 20,
   "metadata": {},
   "outputs": [],
   "source": [
    "error_list_Bayesian = np.array(error_list_Bayesian)"
   ]
  },
  {
   "cell_type": "code",
   "execution_count": 21,
   "metadata": {},
   "outputs": [
    {
     "data": {
      "text/plain": [
       "array([0.14171387, 0.14203341, 0.14271605, 0.14287582, 0.14287582,\n",
       "       0.14287582, 0.14287582, 0.14287582, 0.14287582])"
      ]
     },
     "execution_count": 21,
     "metadata": {},
     "output_type": "execute_result"
    }
   ],
   "source": [
    "error_list_Bayesian"
   ]
  },
  {
   "cell_type": "code",
   "execution_count": 22,
   "metadata": {},
   "outputs": [
    {
     "data": {
      "text/plain": [
       "[<matplotlib.lines.Line2D at 0x7ff16877f5c0>]"
      ]
     },
     "execution_count": 22,
     "metadata": {},
     "output_type": "execute_result"
    },
    {
     "data": {
      "image/png": "[encoded data removed]",
      "text/plain": [
       "<Figure size 432x288 with 1 Axes>"
      ]
     },
     "metadata": {
      "needs_background": "light"
     },
     "output_type": "display_data"
    }
   ],
   "source": [
    "plt.plot(np.log(a.flatten()),error_list_Bayesian)"
   ]
  },
  {
   "cell_type": "markdown",
   "metadata": {},
   "source": [
    "### b)"
   ]
  },
  {
   "cell_type": "code",
   "execution_count": 23,
   "metadata": {},
   "outputs": [],
   "source": [
    "mu_FG1_ML = np.mean(FG1,axis = 0)\n",
    "mu_BG1_ML = np.mean(BG1,axis = 0)\n",
    "cov_FG1_ML = np.cov(FG1.T)*(FG1.shape[0]-1)/(FG1.shape[0])\n",
    "cov_BG1_ML = np.cov(BG1.T)*(BG1.shape[0]-1)/(BG1.shape[0])"
   ]
  },
  {
   "cell_type": "code",
   "execution_count": 24,
   "metadata": {},
   "outputs": [
    {
     "name": "stdout",
     "output_type": "stream",
     "text": [
      "(64714,)\n"
     ]
    }
   ],
   "source": [
    "from numpy.linalg import inv,det\n",
    "A_ML = []\n",
    "cov_FG1_inv = inv(cov_FG1_ML)\n",
    "cov_BG1_inv = inv(cov_BG1_ML)\n",
    "cov_FG1_det = det(cov_FG1_ML)\n",
    "cov_BG1_det = det(cov_BG1_ML)\n",
    "for i in range(0,len(im_array)-8):\n",
    "    for j in range(0,im_array.shape[1]-8):\n",
    "        FG,BG = 0,0\n",
    "        row_start,row_end = i,i+8\n",
    "        col_start,col_end = j,j+8\n",
    "        block = im_array[row_start:row_end,col_start:col_end]\n",
    "        block_dct = dct2d(block).flatten()\n",
    "        block_dct = zig_zag_transform(block_dct)\n",
    "        # foreground\n",
    "        temp = block_dct - mu_FG1_ML\n",
    "        temp1 = temp[:,np.newaxis]\n",
    "        temp2 = (temp1.T.dot(cov_FG1_inv)).dot(temp1)\n",
    "        temp3 = np.log((2*np.pi)**64 * cov_FG1_det) - 2 * np.log(prior_cheetah)\n",
    "        FG = temp2 + temp3\n",
    "        #background\n",
    "        temp = block_dct - mu_BG1_ML\n",
    "        temp1 = temp[:,np.newaxis]\n",
    "        temp2 = (temp1.T.dot(cov_BG1_inv)).dot(temp1)\n",
    "        temp3 = np.log((2*np.pi)**64 * cov_BG1_det) - 2 * np.log(prior_grass)\n",
    "        BG = temp2 + temp3\n",
    "        if FG >= BG:\n",
    "            A_ML.append(0)\n",
    "        else:\n",
    "            A_ML.append(1)\n",
    "A_ML = np.array(A_ML)\n",
    "print(A_ML.shape)"
   ]
  },
  {
   "cell_type": "code",
   "execution_count": 25,
   "metadata": {},
   "outputs": [
    {
     "name": "stdout",
     "output_type": "stream",
     "text": [
      "[0 0 0 0 0 0 0 0 0 0 0 0 0 0 0 0 0 0 0 0 0 0 0 0 0 0 0 0 0 0 0 0 0 0 0 0 0\n",
      " 0 0 0 0 0 0 0 0 0 0 0 0 0 0 0 0 0 0 0 0 0 0 0 0 0 0 0 0 0 0 0 0 0 0 0 0 0\n",
      " 1 1 0 0 0 0 1 1 0 0 0 0 0 0 0 0 0 0 0 0 0 0 0 0 0 0 0 0 0 0 0 0 0 0 0 0 0\n",
      " 0 0 0 1 0 0 0 1 0 0 0 1 0 0 0 0 0 0 1 0 0 0 1 1 1 0 0 0 0 0 1 0 0 0 1 0 0\n",
      " 0 0 0 0 0 0 0 0 0 0 0 0 0 0 0 0 0 0 0 0 0 0 0 0 0 0 0 0 0 0 0 0 1 0 0 1 0\n",
      " 0 1 1 1 1 0 1 0 1 0 0 0 1 0 1 0 0 0 0 0 0 0 0 1 0 0 0 1 0 0 0 0 0 0 0 0 0\n",
      " 1 1 0 0 0 0 0 0 0 1 0 0 0 0 0 0 0 0 0 0 0 0 0 0 0 0 0 0 0 0 0 0 0 0 0 0 0\n",
      " 0 0 0 0 0 0 0 0 0 0 0]\n"
     ]
    }
   ],
   "source": [
    "A_ML_matrix = np.reshape(A_ML,(247,262))\n",
    "A_ML_matrix_padding = np.lib.pad(A_ML_matrix,(4,4),'constant',constant_values = 0)\n",
    "print(A_ML_matrix_padding[150])"
   ]
  },
  {
   "cell_type": "code",
   "execution_count": 26,
   "metadata": {},
   "outputs": [
    {
     "data": {
      "image/png": "[encoded data removed]",
      "text/plain": [
       "<Figure size 432x288 with 1 Axes>"
      ]
     },
     "metadata": {
      "needs_background": "light"
     },
     "output_type": "display_data"
    }
   ],
   "source": [
    "plt.imshow(A_ML_matrix_padding,cmap='gray')\n",
    "plt.title(\"training result\")\n",
    "plt.show()"
   ]
  },
  {
   "cell_type": "code",
   "execution_count": 27,
   "metadata": {},
   "outputs": [
    {
     "name": "stdout",
     "output_type": "stream",
     "text": [
      "0.14403776325344952\n"
     ]
    }
   ],
   "source": [
    "e = np.absolute(im_test_array.flatten() - A_ML_matrix_padding.flatten())\n",
    "prob_error = np.sum(e) / (255 * 270)\n",
    "print(prob_error)\n",
    "error_list_ML = np.ones(9) * prob_error"
   ]
  },
  {
   "cell_type": "markdown",
   "metadata": {},
   "source": [
    "### c)"
   ]
  },
  {
   "cell_type": "code",
   "execution_count": 28,
   "metadata": {},
   "outputs": [],
   "source": [
    "cov_FG1_MAP = np.cov(FG1.T)*(FG1.shape[0]-1)/(FG1.shape[0])\n",
    "cov_BG1_MAP = np.cov(BG1.T)*(BG1.shape[0]-1)/(BG1.shape[0])"
   ]
  },
  {
   "cell_type": "code",
   "execution_count": 29,
   "metadata": {},
   "outputs": [],
   "source": [
    "from numpy.linalg import det\n",
    "A_list = []\n",
    "for k in range(cov_pred_FG1.shape[0]):\n",
    "    A = []\n",
    "    cov_pred_FG1_inv = inv(cov_FG1_MAP)\n",
    "    cov_pred_BG1_inv = inv(cov_BG1_MAP)\n",
    "    cov_pred_FG1_det = det(cov_FG1_MAP)\n",
    "    cov_pred_BG1_det = det(cov_BG1_MAP)\n",
    "    for i in range(0,len(im_array)-8):\n",
    "        for j in range(0,im_array.shape[1]-8):\n",
    "            FG,BG = 0,0\n",
    "            row_start,row_end = i,i+8\n",
    "            col_start,col_end = j,j+8\n",
    "            block = im_array[row_start:row_end,col_start:col_end]\n",
    "            block_dct = dct2d(block).flatten()\n",
    "            block_dct = zig_zag_transform(block_dct)\n",
    "            # foreground\n",
    "            temp1 = block_dct[:,np.newaxis] - mu_pred_FG1[k]\n",
    "            temp2 = (temp1.T.dot(cov_pred_FG1_inv)).dot(temp1)\n",
    "            temp3 = np.log((2*np.pi)**64 * cov_pred_FG1_det) - 2 * np.log(prior_cheetah)\n",
    "            FG = temp2 + temp3\n",
    "            #background\n",
    "            temp1 = block_dct[:,np.newaxis] - mu_pred_BG1[k]\n",
    "            temp2 = (temp1.T.dot(cov_pred_BG1_inv)).dot(temp1)\n",
    "            temp3 = np.log((2*np.pi)**64 * cov_pred_BG1_det) - 2 * np.log(prior_grass)\n",
    "            BG = temp2 + temp3\n",
    "            if FG >= BG:\n",
    "                A.append(0)\n",
    "            else:\n",
    "                A.append(1)\n",
    "    A_matrix = np.reshape(A,(247,262))\n",
    "    A_matrix_padding = np.lib.pad(A_matrix,(4,4),'constant',constant_values = 0)\n",
    "    A_list.append(A_matrix_padding)"
   ]
  },
  {
   "cell_type": "code",
   "execution_count": 30,
   "metadata": {},
   "outputs": [],
   "source": [
    "A_list = np.array(A_list)"
   ]
  },
  {
   "cell_type": "code",
   "execution_count": 31,
   "metadata": {},
   "outputs": [
    {
     "data": {
      "image/png": "[encoded data removed]",
      "text/plain": [
       "<Figure size 1728x864 with 9 Axes>"
      ]
     },
     "metadata": {
      "needs_background": "light"
     },
     "output_type": "display_data"
    }
   ],
   "source": [
    "import matplotlib.pyplot as plt\n",
    "fig=plt.figure(figsize=(24,12))\n",
    "for i in range(A_list.shape[0]):\n",
    "    fig.add_subplot(3,3,i+1)\n",
    "    plt.imshow(A_list[7],cmap='gray')\n",
    "    plt.title(\"training result using alpha%d\"%i)\n",
    "plt.show()"
   ]
  },
  {
   "cell_type": "code",
   "execution_count": 32,
   "metadata": {},
   "outputs": [],
   "source": [
    "error_list_MAP = []\n",
    "for i in range(A_list.shape[0]):\n",
    "    e = np.absolute(im_test_array.flatten() - A_list[i].flatten())\n",
    "    prob_error = np.sum(e) / (255*270)\n",
    "    error_list_MAP.append(prob_error)"
   ]
  },
  {
   "cell_type": "code",
   "execution_count": 33,
   "metadata": {},
   "outputs": [
    {
     "name": "stdout",
     "output_type": "stream",
     "text": [
      "(9,)\n"
     ]
    }
   ],
   "source": [
    "error_list_MAP = np.array(error_list_MAP)\n",
    "print(error_list_MAP.shape)"
   ]
  },
  {
   "cell_type": "code",
   "execution_count": 34,
   "metadata": {},
   "outputs": [
    {
     "data": {
      "text/plain": [
       "[<matplotlib.lines.Line2D at 0x7ff1395a6828>,\n",
       " <matplotlib.lines.Line2D at 0x7ff1395a6978>,\n",
       " <matplotlib.lines.Line2D at 0x7ff1395a6ac8>]"
      ]
     },
     "execution_count": 34,
     "metadata": {},
     "output_type": "execute_result"
    },
    {
     "data": {
      "image/png": "[encoded data removed]",
      "text/plain": [
       "<Figure size 432x288 with 1 Axes>"
      ]
     },
     "metadata": {
      "needs_background": "light"
     },
     "output_type": "display_data"
    }
   ],
   "source": [
    "plt.plot(np.log(a.flatten()),error_list_Bayesian,np.log(a.flatten()),error_list_MAP,np.log(a.flatten()),error_list_ML)"
   ]
  },
  {
   "cell_type": "code",
   "execution_count": null,
   "metadata": {},
   "outputs": [],
   "source": []
  }
 ],
 "metadata": {
  "kernelspec": {
   "display_name": "Python 3",
   "language": "python",
   "name": "python3"
  },
  "language_info": {
   "codemirror_mode": {
    "name": "ipython",
    "version": 3
   },
   "file_extension": ".py",
   "mimetype": "text/x-python",
   "name": "python",
   "nbconvert_exporter": "python",
   "pygments_lexer": "ipython3",
   "version": "3.7.3"
  }
 },
 "nbformat": 4,
 "nbformat_minor": 2
}
